{
  "nbformat": 4,
  "nbformat_minor": 0,
  "metadata": {
    "colab": {
      "provenance": []
    },
    "kernelspec": {
      "name": "python3",
      "display_name": "Python 3"
    },
    "language_info": {
      "name": "python"
    }
  },
  "cells": [
    {
      "cell_type": "markdown",
      "source": [
        "**Задание №1**\n"
      ],
      "metadata": {
        "id": "Pt1mUNHgPeih"
      }
    },
    {
      "cell_type": "code",
      "source": [
        "import numpy as np\n",
        "def result_mark(weights: np.array, marks: np.array) -> int:\n",
        "    a = np.array;\n",
        "    a = weights.dot(marks.T);\n",
        "    return round(a)"
      ],
      "metadata": {
        "id": "Ltmiv9KISGLT"
      },
      "execution_count": 24,
      "outputs": []
    },
    {
      "cell_type": "code",
      "source": [
        "weights = np.array([0.3, 0.4, 0.2, 0.1])\n",
        "marks = np.array([7, 10, 8, 6])\n",
        "\n",
        "assert result_mark(weights, marks) == 8"
      ],
      "metadata": {
        "id": "hRJc4j9foqfk"
      },
      "execution_count": 25,
      "outputs": []
    },
    {
      "cell_type": "code",
      "source": [
        "weights = np.array([0.3, 0.4, 0.2, 0.1])\n",
        "marks = np.array([7, 0, 8, 6])\n",
        "\n",
        "assert result_mark(weights, marks) == 4"
      ],
      "metadata": {
        "id": "vy6GWxEypArt"
      },
      "execution_count": 26,
      "outputs": []
    },
    {
      "cell_type": "markdown",
      "source": [
        "**Задание №2**"
      ],
      "metadata": {
        "id": "3_Bg0TZvZBV5"
      }
    },
    {
      "cell_type": "code",
      "source": [
        "import numpy as np\n",
        "def change_array(array: np.array, number: int) -> np.array:\n",
        "  array[::3] = number;\n",
        "  return array"
      ],
      "metadata": {
        "id": "vIEm76JYZHHb"
      },
      "execution_count": 21,
      "outputs": []
    },
    {
      "cell_type": "code",
      "source": [
        "array = np.array([3, 5, 1, 0, -3, 22, 213436])\n",
        "number = -111\n",
        "\n",
        "assert np.allclose(change_array(array, number), np.array([-111, 5, 1, -111, -3, 22, -111]))"
      ],
      "metadata": {
        "id": "C79ZYqqeouT9"
      },
      "execution_count": 22,
      "outputs": []
    },
    {
      "cell_type": "code",
      "source": [
        "array = np.array([3, 14, 15, 92, 6])\n",
        "number = 8\n",
        "\n",
        "assert np.allclose(change_array(array, number), np.array([8, 14, 15, 8, 6]))"
      ],
      "metadata": {
        "id": "KjX1i2AjpGXE"
      },
      "execution_count": 23,
      "outputs": []
    },
    {
      "cell_type": "markdown",
      "source": [
        "**Задание №3**\n"
      ],
      "metadata": {
        "id": "N5rFBLrvabOM"
      }
    },
    {
      "cell_type": "code",
      "source": [
        "import numpy as np\n",
        "def find_close(array1: np.array, array2: np.array,precision: float) -> np.array:\n",
        "  arr = np.array;\n",
        "  arr = abs(array1[:]-array2[:]);\n",
        "  ans = np.array;\n",
        "  ans = np.where(arr <= precision);\n",
        "  return ans[0]"
      ],
      "metadata": {
        "id": "HbgiUfbcafti"
      },
      "execution_count": 18,
      "outputs": []
    },
    {
      "cell_type": "code",
      "source": [
        "array1 = np.array([1.5, 0.5, 2, -4.1, -3, 6, -1])\n",
        "array2 = np.array([1.2, 0.5, 1, -4.0,  3, 0, -1.2])\n",
        "precision = 0.5\n",
        "res = find_close(array1, array2, precision)\n",
        "\n",
        "assert res.ndim == 1\n",
        "assert np.allclose(res, np.array([0, 1, 3, 6]))"
      ],
      "metadata": {
        "id": "2PTz7_WepJci"
      },
      "execution_count": 19,
      "outputs": []
    },
    {
      "cell_type": "code",
      "source": [
        "array1 = np.array([3.1415, 2.7182, 1.6180, 6.6261])\n",
        "array2 = np.array([6.6730, 1.3807, -1,     6.0222])\n",
        "precision = 1.7\n",
        "res = find_close(array1, array2, precision)\n",
        "\n",
        "assert res.ndim == 1\n",
        "assert np.allclose(res, np.array([1, 3]))"
      ],
      "metadata": {
        "id": "T-MyJHZdpKvi"
      },
      "execution_count": 20,
      "outputs": []
    },
    {
      "cell_type": "markdown",
      "source": [
        "**Задание №4**"
      ],
      "metadata": {
        "id": "N5faXe_kWt-5"
      }
    },
    {
      "cell_type": "code",
      "source": [
        "import numpy as np\n",
        "def block_matrix(block: np.array) -> np.array:\n",
        "  ans = np.block([[block,block],[block,block]]);\n",
        "  return ans"
      ],
      "metadata": {
        "id": "4zbOo8XBWxFA"
      },
      "execution_count": 16,
      "outputs": []
    },
    {
      "cell_type": "code",
      "source": [
        "block = np.array([[1, 3, 3], [7, 0, 0]])\n",
        "\n",
        "assert np.allclose(\n",
        "    block_matrix(block),\n",
        "    np.array([[1, 3, 3, 1, 3, 3],\n",
        "              [7, 0, 0, 7, 0, 0],\n",
        "              [1, 3, 3, 1, 3, 3],\n",
        "              [7, 0, 0, 7, 0, 0]])\n",
        ")"
      ],
      "metadata": {
        "id": "UO-BQIRspQRn"
      },
      "execution_count": 17,
      "outputs": []
    },
    {
      "cell_type": "markdown",
      "source": [
        "**Задание №5**"
      ],
      "metadata": {
        "id": "c40rZfC7jSVt"
      }
    },
    {
      "cell_type": "code",
      "source": [
        "import numpy as np\n",
        "def diag_prod(matrix: np.array) -> int:\n",
        "  a = np.diagonal(matrix);\n",
        "  ans = a[a!=0];\n",
        "  return np.prod(ans)"
      ],
      "metadata": {
        "id": "6lnbl8BujV8I"
      },
      "execution_count": 14,
      "outputs": []
    },
    {
      "cell_type": "code",
      "source": [
        "matrix = np.array([[0, 1, 2, 3],\n",
        "                   [4, 5, 6, 7],\n",
        "                   [8, 9, 10, 11],\n",
        "                   [12, 13, 14, 15]])\n",
        "\n",
        "assert diag_prod(matrix) == 750"
      ],
      "metadata": {
        "id": "cHCR8IeupVG1"
      },
      "execution_count": 15,
      "outputs": []
    },
    {
      "cell_type": "markdown",
      "source": [
        "**Задание №6**"
      ],
      "metadata": {
        "id": "vxr4sGEGCs0V"
      }
    },
    {
      "cell_type": "code",
      "source": [
        "import numpy as np\n",
        "def normalize(matrix: np.array) -> np.array:\n",
        "  stds = np.std(matrix, axis = 0)\n",
        "  stds[stds==0] = 1\n",
        "  return (matrix - np.mean(matrix,axis = 0)) / stds"
      ],
      "metadata": {
        "id": "oSUQHJ2zCwOR"
      },
      "execution_count": 11,
      "outputs": []
    },
    {
      "cell_type": "code",
      "source": [
        "matrix = np.array([[1, 4, 4200], [0, 10, 5000], [1, 2, 1000]])\n",
        "\n",
        "assert np.allclose(\n",
        "    normalize(matrix),\n",
        "    np.array([[ 0.7071, -0.39223,  0.46291],\n",
        "              [-1.4142,  1.37281,  0.92582],\n",
        "              [ 0.7071, -0.98058, -1.38873]])\n",
        ")"
      ],
      "metadata": {
        "id": "L7YtapXPOVok"
      },
      "execution_count": 12,
      "outputs": []
    },
    {
      "cell_type": "code",
      "source": [
        "matrix = np.array([[-7, 2, 42], [2, 10, 50], [5, 4, 10]])\n",
        "\n",
        "assert np.allclose(\n",
        "    normalize(matrix),\n",
        "    np.array([[-1.37281, -0.98058,  0.46291],\n",
        "              [ 0.39223,  1.37281,  0.92582],\n",
        "              [ 0.98058, -0.39223, -1.38873]])\n",
        ")"
      ],
      "metadata": {
        "id": "TLs6NJ0IpbAq"
      },
      "execution_count": 13,
      "outputs": []
    },
    {
      "cell_type": "markdown",
      "source": [
        "**Задание №7**"
      ],
      "metadata": {
        "id": "4rtLDGDT4lyt"
      }
    },
    {
      "cell_type": "code",
      "source": [
        "import numpy as np\n",
        "def prevZeroMax(matrix: np.array) -> int:\n",
        "  zero = (matrix == 0)\n",
        "  zero[-1] = False\n",
        "  ans = np.roll(matrix,-1)\n",
        "  ans = ans[zero==True]\n",
        "  return np.max(ans)"
      ],
      "metadata": {
        "id": "7Qd0PLly4pCp"
      },
      "execution_count": 8,
      "outputs": []
    },
    {
      "cell_type": "code",
      "source": [
        "coefs = np.array([6, 2, 0, 3, 0, 0, 5, 7, 0])\n",
        "\n",
        "assert  prevZeroMax(coefs) == 5"
      ],
      "metadata": {
        "id": "HvcPMhXtpgKG"
      },
      "execution_count": 9,
      "outputs": []
    },
    {
      "cell_type": "code",
      "source": [
        "coefs = np.array([1, 0, 1, 0, 4, 2, 0])\n",
        "\n",
        "assert prevZeroMax(coefs) == 4"
      ],
      "metadata": {
        "id": "FCq9jT8opgtr"
      },
      "execution_count": 10,
      "outputs": []
    },
    {
      "cell_type": "markdown",
      "source": [
        "**Задание №8**"
      ],
      "metadata": {
        "id": "4rVIE5vUGq_c"
      }
    },
    {
      "cell_type": "code",
      "source": [
        "import numpy as np\n",
        "def make_symmetric(matrix: np.array) -> np.array:\n",
        "  diagonal = np.diag(matrix.diagonal())\n",
        "  ans = matrix + matrix.T - diagonal\n",
        "  return ans"
      ],
      "metadata": {
        "id": "9j8zV73sGva9"
      },
      "execution_count": 6,
      "outputs": []
    },
    {
      "cell_type": "code",
      "source": [
        "matrix = np.array([[1, 2, 3, 4], [0, 5, 6, 7], [0, 0, 8, 9], [0, 0, 0, 10]])\n",
        "\n",
        "assert np.allclose(\n",
        "    make_symmetric(matrix),\n",
        "    np.array([[ 1,  2,  3,  4],\n",
        "              [ 2,  5,  6,  7],\n",
        "              [ 3,  6,  8,  9],\n",
        "              [ 4,  7,  9, 10]])\n",
        ")"
      ],
      "metadata": {
        "id": "VrZ6f3VUpn42"
      },
      "execution_count": null,
      "outputs": []
    },
    {
      "cell_type": "code",
      "source": [
        "matrix = np.array([[10, 21, 32, 49], [0, 53, 62, 78], [0, 0, 82, 92], [0, 0, 0, 10]])\n",
        "\n",
        "assert np.allclose(\n",
        "    make_symmetric(matrix),\n",
        "    np.array([[10, 21, 32, 49],\n",
        "              [21, 53, 62, 78],\n",
        "              [32, 62, 82, 92],\n",
        "              [49, 78, 92, 10]])\n",
        ")"
      ],
      "metadata": {
        "id": "lu3W8CAapowL"
      },
      "execution_count": 7,
      "outputs": []
    },
    {
      "cell_type": "markdown",
      "source": [
        "**Задание №9**"
      ],
      "metadata": {
        "id": "SvXFKrIqpsD4"
      }
    },
    {
      "cell_type": "code",
      "source": [
        "import numpy as np\n",
        "def construct_matrix(m: int, a: int, b: int) -> np.array:\n",
        "  matrix = np.arange(a,b+1)\n",
        "  return np.tile(matrix,(m,1))\n"
      ],
      "metadata": {
        "id": "xF7WERPfpvzq"
      },
      "execution_count": 4,
      "outputs": []
    },
    {
      "cell_type": "code",
      "source": [
        "assert np.allclose(\n",
        "    construct_matrix(m, a, b),\n",
        "    np.array([[ 3,  4,  5,  6,  7,  8,  9, 10],\n",
        "              [ 3,  4,  5,  6,  7,  8,  9, 10],\n",
        "              [ 3,  4,  5,  6,  7,  8,  9, 10],\n",
        "              [ 3,  4,  5,  6,  7,  8,  9, 10],\n",
        "              [ 3,  4,  5,  6,  7,  8,  9, 10]])\n",
        ")"
      ],
      "metadata": {
        "id": "08O6_zmwt_9f"
      },
      "execution_count": null,
      "outputs": []
    },
    {
      "cell_type": "code",
      "source": [
        "m = 3\n",
        "a = 2\n",
        "b = 6\n",
        "\n",
        "assert np.allclose(\n",
        "    construct_matrix(m, a, b),\n",
        "    np.array([[2, 3, 4, 5, 6],\n",
        "              [2, 3, 4, 5, 6],\n",
        "              [2, 3, 4, 5, 6]])\n",
        ")"
      ],
      "metadata": {
        "id": "49SfsJmZuDQJ"
      },
      "execution_count": 5,
      "outputs": []
    },
    {
      "cell_type": "markdown",
      "source": [
        "**Задание №10**"
      ],
      "metadata": {
        "id": "cvVFtIznuE8H"
      }
    },
    {
      "cell_type": "code",
      "source": [
        "import numpy as np\n",
        "import math\n",
        "def cosine_similarity(vec1: np.array, vec2: np.array) -> float:\n",
        "  vecs_mult = vec1 @ vec2\n",
        "  vec1_sums = np.sum(vec1 @ vec1)\n",
        "  vec2_sums = np.sum(vec2 @ vec2)\n",
        "  return vecs_mult / (math.sqrt(vec1_sums) * math.sqrt(vec2_sums))"
      ],
      "metadata": {
        "id": "PE0aEVvZuJcv"
      },
      "execution_count": 1,
      "outputs": []
    },
    {
      "cell_type": "code",
      "source": [
        "vec1 = np.array([-2, 1,  0, -5, 4, 3, -3])\n",
        "vec2 = np.array([ 0, 2, -2, 10, 6, 0,  0])\n",
        "\n",
        "assert np.allclose(cosine_similarity(vec1, vec2), -0.25)"
      ],
      "metadata": {
        "id": "rmijHcFnxsM3"
      },
      "execution_count": 2,
      "outputs": []
    },
    {
      "cell_type": "code",
      "source": [
        "vec1 = np.array([-4, 2,  9, -8, 9, 0, -2])\n",
        "vec2 = np.array([ 3, 2, -4, -1, 3, 2,  2])\n",
        "\n",
        "assert np.allclose(cosine_similarity(vec1, vec2), -0.119929)"
      ],
      "metadata": {
        "id": "3bSUmaPUxuEU"
      },
      "execution_count": 3,
      "outputs": []
    }
  ]
}