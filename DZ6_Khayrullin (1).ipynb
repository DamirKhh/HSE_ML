{
  "nbformat": 4,
  "nbformat_minor": 0,
  "metadata": {
    "colab": {
      "provenance": []
    },
    "kernelspec": {
      "name": "python3",
      "display_name": "Python 3"
    },
    "language_info": {
      "name": "python"
    }
  },
  "cells": [
    {
      "cell_type": "code",
      "execution_count": 1,
      "metadata": {
        "id": "BKmHwj8Kc7x1"
      },
      "outputs": [],
      "source": [
        "import numpy as np\n",
        "import pandas as pd\n",
        "from typing import  List\n",
        "import matplotlib.pyplot as plt\n",
        "import seaborn as sns\n",
        "from string import punctuation"
      ]
    },
    {
      "cell_type": "code",
      "source": [
        "df = pd.read_csv('/content/tweets_coronavirus.csv', encoding='latin-1')\n",
        "df.sample(4)"
      ],
      "metadata": {
        "colab": {
          "base_uri": "https://localhost:8080/",
          "height": 175
        },
        "id": "EwfEHzgideCX",
        "outputId": "09846a02-7471-44dc-bb4a-8a93142d2ea3"
      },
      "execution_count": 2,
      "outputs": [
        {
          "output_type": "execute_result",
          "data": {
            "text/plain": [
              "       UserName  ScreenName                Location     TweetAt  \\\n",
              "8555      14195       59147  Robinson Crusoe Island  20-03-2020   \n",
              "12369     18797       63749                 British  22-03-2020   \n",
              "30733     41602       86554      Dirty Old Detroit   11-04-2020   \n",
              "1826       6024       50976                Toronto   17-03-2020   \n",
              "\n",
              "                                           OriginalTweet           Sentiment  \n",
              "8555   @Tesco #CoronaCrisis\\r\\r\\nHEAD OFFICE......\\r\\...            Positive  \n",
              "12369  @POTUS you must follw the Danish and British e...  Extremely Negative  \n",
              "30733  @GovWhitmer  Massachusetts  grocery/supermarke...  Extremely Positive  \n",
              "1826   On my way home from the grocery store, I still...            Negative  "
            ],
            "text/html": [
              "\n",
              "  <div id=\"df-882da015-3485-4f50-a262-fa8eb4fa0708\" class=\"colab-df-container\">\n",
              "    <div>\n",
              "<style scoped>\n",
              "    .dataframe tbody tr th:only-of-type {\n",
              "        vertical-align: middle;\n",
              "    }\n",
              "\n",
              "    .dataframe tbody tr th {\n",
              "        vertical-align: top;\n",
              "    }\n",
              "\n",
              "    .dataframe thead th {\n",
              "        text-align: right;\n",
              "    }\n",
              "</style>\n",
              "<table border=\"1\" class=\"dataframe\">\n",
              "  <thead>\n",
              "    <tr style=\"text-align: right;\">\n",
              "      <th></th>\n",
              "      <th>UserName</th>\n",
              "      <th>ScreenName</th>\n",
              "      <th>Location</th>\n",
              "      <th>TweetAt</th>\n",
              "      <th>OriginalTweet</th>\n",
              "      <th>Sentiment</th>\n",
              "    </tr>\n",
              "  </thead>\n",
              "  <tbody>\n",
              "    <tr>\n",
              "      <th>8555</th>\n",
              "      <td>14195</td>\n",
              "      <td>59147</td>\n",
              "      <td>Robinson Crusoe Island</td>\n",
              "      <td>20-03-2020</td>\n",
              "      <td>@Tesco #CoronaCrisis\\r\\r\\nHEAD OFFICE......\\r\\...</td>\n",
              "      <td>Positive</td>\n",
              "    </tr>\n",
              "    <tr>\n",
              "      <th>12369</th>\n",
              "      <td>18797</td>\n",
              "      <td>63749</td>\n",
              "      <td>British</td>\n",
              "      <td>22-03-2020</td>\n",
              "      <td>@POTUS you must follw the Danish and British e...</td>\n",
              "      <td>Extremely Negative</td>\n",
              "    </tr>\n",
              "    <tr>\n",
              "      <th>30733</th>\n",
              "      <td>41602</td>\n",
              "      <td>86554</td>\n",
              "      <td>Dirty Old Detroit</td>\n",
              "      <td>11-04-2020</td>\n",
              "      <td>@GovWhitmer  Massachusetts  grocery/supermarke...</td>\n",
              "      <td>Extremely Positive</td>\n",
              "    </tr>\n",
              "    <tr>\n",
              "      <th>1826</th>\n",
              "      <td>6024</td>\n",
              "      <td>50976</td>\n",
              "      <td>Toronto</td>\n",
              "      <td>17-03-2020</td>\n",
              "      <td>On my way home from the grocery store, I still...</td>\n",
              "      <td>Negative</td>\n",
              "    </tr>\n",
              "  </tbody>\n",
              "</table>\n",
              "</div>\n",
              "    <div class=\"colab-df-buttons\">\n",
              "\n",
              "  <div class=\"colab-df-container\">\n",
              "    <button class=\"colab-df-convert\" onclick=\"convertToInteractive('df-882da015-3485-4f50-a262-fa8eb4fa0708')\"\n",
              "            title=\"Convert this dataframe to an interactive table.\"\n",
              "            style=\"display:none;\">\n",
              "\n",
              "  <svg xmlns=\"http://www.w3.org/2000/svg\" height=\"24px\" viewBox=\"0 -960 960 960\">\n",
              "    <path d=\"M120-120v-720h720v720H120Zm60-500h600v-160H180v160Zm220 220h160v-160H400v160Zm0 220h160v-160H400v160ZM180-400h160v-160H180v160Zm440 0h160v-160H620v160ZM180-180h160v-160H180v160Zm440 0h160v-160H620v160Z\"/>\n",
              "  </svg>\n",
              "    </button>\n",
              "\n",
              "  <style>\n",
              "    .colab-df-container {\n",
              "      display:flex;\n",
              "      gap: 12px;\n",
              "    }\n",
              "\n",
              "    .colab-df-convert {\n",
              "      background-color: #E8F0FE;\n",
              "      border: none;\n",
              "      border-radius: 50%;\n",
              "      cursor: pointer;\n",
              "      display: none;\n",
              "      fill: #1967D2;\n",
              "      height: 32px;\n",
              "      padding: 0 0 0 0;\n",
              "      width: 32px;\n",
              "    }\n",
              "\n",
              "    .colab-df-convert:hover {\n",
              "      background-color: #E2EBFA;\n",
              "      box-shadow: 0px 1px 2px rgba(60, 64, 67, 0.3), 0px 1px 3px 1px rgba(60, 64, 67, 0.15);\n",
              "      fill: #174EA6;\n",
              "    }\n",
              "\n",
              "    .colab-df-buttons div {\n",
              "      margin-bottom: 4px;\n",
              "    }\n",
              "\n",
              "    [theme=dark] .colab-df-convert {\n",
              "      background-color: #3B4455;\n",
              "      fill: #D2E3FC;\n",
              "    }\n",
              "\n",
              "    [theme=dark] .colab-df-convert:hover {\n",
              "      background-color: #434B5C;\n",
              "      box-shadow: 0px 1px 3px 1px rgba(0, 0, 0, 0.15);\n",
              "      filter: drop-shadow(0px 1px 2px rgba(0, 0, 0, 0.3));\n",
              "      fill: #FFFFFF;\n",
              "    }\n",
              "  </style>\n",
              "\n",
              "    <script>\n",
              "      const buttonEl =\n",
              "        document.querySelector('#df-882da015-3485-4f50-a262-fa8eb4fa0708 button.colab-df-convert');\n",
              "      buttonEl.style.display =\n",
              "        google.colab.kernel.accessAllowed ? 'block' : 'none';\n",
              "\n",
              "      async function convertToInteractive(key) {\n",
              "        const element = document.querySelector('#df-882da015-3485-4f50-a262-fa8eb4fa0708');\n",
              "        const dataTable =\n",
              "          await google.colab.kernel.invokeFunction('convertToInteractive',\n",
              "                                                    [key], {});\n",
              "        if (!dataTable) return;\n",
              "\n",
              "        const docLinkHtml = 'Like what you see? Visit the ' +\n",
              "          '<a target=\"_blank\" href=https://colab.research.google.com/notebooks/data_table.ipynb>data table notebook</a>'\n",
              "          + ' to learn more about interactive tables.';\n",
              "        element.innerHTML = '';\n",
              "        dataTable['output_type'] = 'display_data';\n",
              "        await google.colab.output.renderOutput(dataTable, element);\n",
              "        const docLink = document.createElement('div');\n",
              "        docLink.innerHTML = docLinkHtml;\n",
              "        element.appendChild(docLink);\n",
              "      }\n",
              "    </script>\n",
              "  </div>\n",
              "\n",
              "\n",
              "<div id=\"df-c8ccd26f-7b2d-4087-97eb-e34feb8fd681\">\n",
              "  <button class=\"colab-df-quickchart\" onclick=\"quickchart('df-c8ccd26f-7b2d-4087-97eb-e34feb8fd681')\"\n",
              "            title=\"Suggest charts\"\n",
              "            style=\"display:none;\">\n",
              "\n",
              "<svg xmlns=\"http://www.w3.org/2000/svg\" height=\"24px\"viewBox=\"0 0 24 24\"\n",
              "     width=\"24px\">\n",
              "    <g>\n",
              "        <path d=\"M19 3H5c-1.1 0-2 .9-2 2v14c0 1.1.9 2 2 2h14c1.1 0 2-.9 2-2V5c0-1.1-.9-2-2-2zM9 17H7v-7h2v7zm4 0h-2V7h2v10zm4 0h-2v-4h2v4z\"/>\n",
              "    </g>\n",
              "</svg>\n",
              "  </button>\n",
              "\n",
              "<style>\n",
              "  .colab-df-quickchart {\n",
              "      --bg-color: #E8F0FE;\n",
              "      --fill-color: #1967D2;\n",
              "      --hover-bg-color: #E2EBFA;\n",
              "      --hover-fill-color: #174EA6;\n",
              "      --disabled-fill-color: #AAA;\n",
              "      --disabled-bg-color: #DDD;\n",
              "  }\n",
              "\n",
              "  [theme=dark] .colab-df-quickchart {\n",
              "      --bg-color: #3B4455;\n",
              "      --fill-color: #D2E3FC;\n",
              "      --hover-bg-color: #434B5C;\n",
              "      --hover-fill-color: #FFFFFF;\n",
              "      --disabled-bg-color: #3B4455;\n",
              "      --disabled-fill-color: #666;\n",
              "  }\n",
              "\n",
              "  .colab-df-quickchart {\n",
              "    background-color: var(--bg-color);\n",
              "    border: none;\n",
              "    border-radius: 50%;\n",
              "    cursor: pointer;\n",
              "    display: none;\n",
              "    fill: var(--fill-color);\n",
              "    height: 32px;\n",
              "    padding: 0;\n",
              "    width: 32px;\n",
              "  }\n",
              "\n",
              "  .colab-df-quickchart:hover {\n",
              "    background-color: var(--hover-bg-color);\n",
              "    box-shadow: 0 1px 2px rgba(60, 64, 67, 0.3), 0 1px 3px 1px rgba(60, 64, 67, 0.15);\n",
              "    fill: var(--button-hover-fill-color);\n",
              "  }\n",
              "\n",
              "  .colab-df-quickchart-complete:disabled,\n",
              "  .colab-df-quickchart-complete:disabled:hover {\n",
              "    background-color: var(--disabled-bg-color);\n",
              "    fill: var(--disabled-fill-color);\n",
              "    box-shadow: none;\n",
              "  }\n",
              "\n",
              "  .colab-df-spinner {\n",
              "    border: 2px solid var(--fill-color);\n",
              "    border-color: transparent;\n",
              "    border-bottom-color: var(--fill-color);\n",
              "    animation:\n",
              "      spin 1s steps(1) infinite;\n",
              "  }\n",
              "\n",
              "  @keyframes spin {\n",
              "    0% {\n",
              "      border-color: transparent;\n",
              "      border-bottom-color: var(--fill-color);\n",
              "      border-left-color: var(--fill-color);\n",
              "    }\n",
              "    20% {\n",
              "      border-color: transparent;\n",
              "      border-left-color: var(--fill-color);\n",
              "      border-top-color: var(--fill-color);\n",
              "    }\n",
              "    30% {\n",
              "      border-color: transparent;\n",
              "      border-left-color: var(--fill-color);\n",
              "      border-top-color: var(--fill-color);\n",
              "      border-right-color: var(--fill-color);\n",
              "    }\n",
              "    40% {\n",
              "      border-color: transparent;\n",
              "      border-right-color: var(--fill-color);\n",
              "      border-top-color: var(--fill-color);\n",
              "    }\n",
              "    60% {\n",
              "      border-color: transparent;\n",
              "      border-right-color: var(--fill-color);\n",
              "    }\n",
              "    80% {\n",
              "      border-color: transparent;\n",
              "      border-right-color: var(--fill-color);\n",
              "      border-bottom-color: var(--fill-color);\n",
              "    }\n",
              "    90% {\n",
              "      border-color: transparent;\n",
              "      border-bottom-color: var(--fill-color);\n",
              "    }\n",
              "  }\n",
              "</style>\n",
              "\n",
              "  <script>\n",
              "    async function quickchart(key) {\n",
              "      const quickchartButtonEl =\n",
              "        document.querySelector('#' + key + ' button');\n",
              "      quickchartButtonEl.disabled = true;  // To prevent multiple clicks.\n",
              "      quickchartButtonEl.classList.add('colab-df-spinner');\n",
              "      try {\n",
              "        const charts = await google.colab.kernel.invokeFunction(\n",
              "            'suggestCharts', [key], {});\n",
              "      } catch (error) {\n",
              "        console.error('Error during call to suggestCharts:', error);\n",
              "      }\n",
              "      quickchartButtonEl.classList.remove('colab-df-spinner');\n",
              "      quickchartButtonEl.classList.add('colab-df-quickchart-complete');\n",
              "    }\n",
              "    (() => {\n",
              "      let quickchartButtonEl =\n",
              "        document.querySelector('#df-c8ccd26f-7b2d-4087-97eb-e34feb8fd681 button');\n",
              "      quickchartButtonEl.style.display =\n",
              "        google.colab.kernel.accessAllowed ? 'block' : 'none';\n",
              "    })();\n",
              "  </script>\n",
              "</div>\n",
              "    </div>\n",
              "  </div>\n"
            ],
            "application/vnd.google.colaboratory.intrinsic+json": {
              "type": "dataframe",
              "repr_error": "0"
            }
          },
          "metadata": {},
          "execution_count": 2
        }
      ]
    },
    {
      "cell_type": "markdown",
      "source": [
        "**Задание 1 Подготовка**\n",
        "Целевая переменная находится в колонке Sentiment. Преобразуйте ее таким образом, чтобы она стала бинарной: 1 - если у твитта положительная эмоциональная окраска и 0 - если отрицательная."
      ],
      "metadata": {
        "id": "FNMo6NHTeClQ"
      }
    },
    {
      "cell_type": "code",
      "source": [
        "df['Sentiment'] = df['Sentiment'].apply(lambda x: 1 if 'Positive' in x else 0)\n",
        "df.head()"
      ],
      "metadata": {
        "colab": {
          "base_uri": "https://localhost:8080/",
          "height": 206
        },
        "id": "QkXzjsX6eHXk",
        "outputId": "c48e1935-2f1c-4b91-8e5c-3ae160bdd88a"
      },
      "execution_count": 3,
      "outputs": [
        {
          "output_type": "execute_result",
          "data": {
            "text/plain": [
              "   UserName  ScreenName                     Location     TweetAt  \\\n",
              "0      3800       48752                           UK  16-03-2020   \n",
              "1      3801       48753                    Vagabonds  16-03-2020   \n",
              "2      3802       48754                          NaN  16-03-2020   \n",
              "3      3803       48755                          NaN  16-03-2020   \n",
              "4      3804       48756  ÃÂT: 36.319708,-82.363649  16-03-2020   \n",
              "\n",
              "                                       OriginalTweet  Sentiment  \n",
              "0  advice Talk to your neighbours family to excha...          1  \n",
              "1  Coronavirus Australia: Woolworths to give elde...          1  \n",
              "2  My food stock is not the only one which is emp...          1  \n",
              "3  Me, ready to go at supermarket during the #COV...          0  \n",
              "4  As news of the regionÃÂs first confirmed COV...          1  "
            ],
            "text/html": [
              "\n",
              "  <div id=\"df-a24d190b-b3df-407e-a07f-bf02a57d43fa\" class=\"colab-df-container\">\n",
              "    <div>\n",
              "<style scoped>\n",
              "    .dataframe tbody tr th:only-of-type {\n",
              "        vertical-align: middle;\n",
              "    }\n",
              "\n",
              "    .dataframe tbody tr th {\n",
              "        vertical-align: top;\n",
              "    }\n",
              "\n",
              "    .dataframe thead th {\n",
              "        text-align: right;\n",
              "    }\n",
              "</style>\n",
              "<table border=\"1\" class=\"dataframe\">\n",
              "  <thead>\n",
              "    <tr style=\"text-align: right;\">\n",
              "      <th></th>\n",
              "      <th>UserName</th>\n",
              "      <th>ScreenName</th>\n",
              "      <th>Location</th>\n",
              "      <th>TweetAt</th>\n",
              "      <th>OriginalTweet</th>\n",
              "      <th>Sentiment</th>\n",
              "    </tr>\n",
              "  </thead>\n",
              "  <tbody>\n",
              "    <tr>\n",
              "      <th>0</th>\n",
              "      <td>3800</td>\n",
              "      <td>48752</td>\n",
              "      <td>UK</td>\n",
              "      <td>16-03-2020</td>\n",
              "      <td>advice Talk to your neighbours family to excha...</td>\n",
              "      <td>1</td>\n",
              "    </tr>\n",
              "    <tr>\n",
              "      <th>1</th>\n",
              "      <td>3801</td>\n",
              "      <td>48753</td>\n",
              "      <td>Vagabonds</td>\n",
              "      <td>16-03-2020</td>\n",
              "      <td>Coronavirus Australia: Woolworths to give elde...</td>\n",
              "      <td>1</td>\n",
              "    </tr>\n",
              "    <tr>\n",
              "      <th>2</th>\n",
              "      <td>3802</td>\n",
              "      <td>48754</td>\n",
              "      <td>NaN</td>\n",
              "      <td>16-03-2020</td>\n",
              "      <td>My food stock is not the only one which is emp...</td>\n",
              "      <td>1</td>\n",
              "    </tr>\n",
              "    <tr>\n",
              "      <th>3</th>\n",
              "      <td>3803</td>\n",
              "      <td>48755</td>\n",
              "      <td>NaN</td>\n",
              "      <td>16-03-2020</td>\n",
              "      <td>Me, ready to go at supermarket during the #COV...</td>\n",
              "      <td>0</td>\n",
              "    </tr>\n",
              "    <tr>\n",
              "      <th>4</th>\n",
              "      <td>3804</td>\n",
              "      <td>48756</td>\n",
              "      <td>ÃÂT: 36.319708,-82.363649</td>\n",
              "      <td>16-03-2020</td>\n",
              "      <td>As news of the regionÃÂs first confirmed COV...</td>\n",
              "      <td>1</td>\n",
              "    </tr>\n",
              "  </tbody>\n",
              "</table>\n",
              "</div>\n",
              "    <div class=\"colab-df-buttons\">\n",
              "\n",
              "  <div class=\"colab-df-container\">\n",
              "    <button class=\"colab-df-convert\" onclick=\"convertToInteractive('df-a24d190b-b3df-407e-a07f-bf02a57d43fa')\"\n",
              "            title=\"Convert this dataframe to an interactive table.\"\n",
              "            style=\"display:none;\">\n",
              "\n",
              "  <svg xmlns=\"http://www.w3.org/2000/svg\" height=\"24px\" viewBox=\"0 -960 960 960\">\n",
              "    <path d=\"M120-120v-720h720v720H120Zm60-500h600v-160H180v160Zm220 220h160v-160H400v160Zm0 220h160v-160H400v160ZM180-400h160v-160H180v160Zm440 0h160v-160H620v160ZM180-180h160v-160H180v160Zm440 0h160v-160H620v160Z\"/>\n",
              "  </svg>\n",
              "    </button>\n",
              "\n",
              "  <style>\n",
              "    .colab-df-container {\n",
              "      display:flex;\n",
              "      gap: 12px;\n",
              "    }\n",
              "\n",
              "    .colab-df-convert {\n",
              "      background-color: #E8F0FE;\n",
              "      border: none;\n",
              "      border-radius: 50%;\n",
              "      cursor: pointer;\n",
              "      display: none;\n",
              "      fill: #1967D2;\n",
              "      height: 32px;\n",
              "      padding: 0 0 0 0;\n",
              "      width: 32px;\n",
              "    }\n",
              "\n",
              "    .colab-df-convert:hover {\n",
              "      background-color: #E2EBFA;\n",
              "      box-shadow: 0px 1px 2px rgba(60, 64, 67, 0.3), 0px 1px 3px 1px rgba(60, 64, 67, 0.15);\n",
              "      fill: #174EA6;\n",
              "    }\n",
              "\n",
              "    .colab-df-buttons div {\n",
              "      margin-bottom: 4px;\n",
              "    }\n",
              "\n",
              "    [theme=dark] .colab-df-convert {\n",
              "      background-color: #3B4455;\n",
              "      fill: #D2E3FC;\n",
              "    }\n",
              "\n",
              "    [theme=dark] .colab-df-convert:hover {\n",
              "      background-color: #434B5C;\n",
              "      box-shadow: 0px 1px 3px 1px rgba(0, 0, 0, 0.15);\n",
              "      filter: drop-shadow(0px 1px 2px rgba(0, 0, 0, 0.3));\n",
              "      fill: #FFFFFF;\n",
              "    }\n",
              "  </style>\n",
              "\n",
              "    <script>\n",
              "      const buttonEl =\n",
              "        document.querySelector('#df-a24d190b-b3df-407e-a07f-bf02a57d43fa button.colab-df-convert');\n",
              "      buttonEl.style.display =\n",
              "        google.colab.kernel.accessAllowed ? 'block' : 'none';\n",
              "\n",
              "      async function convertToInteractive(key) {\n",
              "        const element = document.querySelector('#df-a24d190b-b3df-407e-a07f-bf02a57d43fa');\n",
              "        const dataTable =\n",
              "          await google.colab.kernel.invokeFunction('convertToInteractive',\n",
              "                                                    [key], {});\n",
              "        if (!dataTable) return;\n",
              "\n",
              "        const docLinkHtml = 'Like what you see? Visit the ' +\n",
              "          '<a target=\"_blank\" href=https://colab.research.google.com/notebooks/data_table.ipynb>data table notebook</a>'\n",
              "          + ' to learn more about interactive tables.';\n",
              "        element.innerHTML = '';\n",
              "        dataTable['output_type'] = 'display_data';\n",
              "        await google.colab.output.renderOutput(dataTable, element);\n",
              "        const docLink = document.createElement('div');\n",
              "        docLink.innerHTML = docLinkHtml;\n",
              "        element.appendChild(docLink);\n",
              "      }\n",
              "    </script>\n",
              "  </div>\n",
              "\n",
              "\n",
              "<div id=\"df-0c4dea46-718c-46c9-8e21-3a9ce9793d2f\">\n",
              "  <button class=\"colab-df-quickchart\" onclick=\"quickchart('df-0c4dea46-718c-46c9-8e21-3a9ce9793d2f')\"\n",
              "            title=\"Suggest charts\"\n",
              "            style=\"display:none;\">\n",
              "\n",
              "<svg xmlns=\"http://www.w3.org/2000/svg\" height=\"24px\"viewBox=\"0 0 24 24\"\n",
              "     width=\"24px\">\n",
              "    <g>\n",
              "        <path d=\"M19 3H5c-1.1 0-2 .9-2 2v14c0 1.1.9 2 2 2h14c1.1 0 2-.9 2-2V5c0-1.1-.9-2-2-2zM9 17H7v-7h2v7zm4 0h-2V7h2v10zm4 0h-2v-4h2v4z\"/>\n",
              "    </g>\n",
              "</svg>\n",
              "  </button>\n",
              "\n",
              "<style>\n",
              "  .colab-df-quickchart {\n",
              "      --bg-color: #E8F0FE;\n",
              "      --fill-color: #1967D2;\n",
              "      --hover-bg-color: #E2EBFA;\n",
              "      --hover-fill-color: #174EA6;\n",
              "      --disabled-fill-color: #AAA;\n",
              "      --disabled-bg-color: #DDD;\n",
              "  }\n",
              "\n",
              "  [theme=dark] .colab-df-quickchart {\n",
              "      --bg-color: #3B4455;\n",
              "      --fill-color: #D2E3FC;\n",
              "      --hover-bg-color: #434B5C;\n",
              "      --hover-fill-color: #FFFFFF;\n",
              "      --disabled-bg-color: #3B4455;\n",
              "      --disabled-fill-color: #666;\n",
              "  }\n",
              "\n",
              "  .colab-df-quickchart {\n",
              "    background-color: var(--bg-color);\n",
              "    border: none;\n",
              "    border-radius: 50%;\n",
              "    cursor: pointer;\n",
              "    display: none;\n",
              "    fill: var(--fill-color);\n",
              "    height: 32px;\n",
              "    padding: 0;\n",
              "    width: 32px;\n",
              "  }\n",
              "\n",
              "  .colab-df-quickchart:hover {\n",
              "    background-color: var(--hover-bg-color);\n",
              "    box-shadow: 0 1px 2px rgba(60, 64, 67, 0.3), 0 1px 3px 1px rgba(60, 64, 67, 0.15);\n",
              "    fill: var(--button-hover-fill-color);\n",
              "  }\n",
              "\n",
              "  .colab-df-quickchart-complete:disabled,\n",
              "  .colab-df-quickchart-complete:disabled:hover {\n",
              "    background-color: var(--disabled-bg-color);\n",
              "    fill: var(--disabled-fill-color);\n",
              "    box-shadow: none;\n",
              "  }\n",
              "\n",
              "  .colab-df-spinner {\n",
              "    border: 2px solid var(--fill-color);\n",
              "    border-color: transparent;\n",
              "    border-bottom-color: var(--fill-color);\n",
              "    animation:\n",
              "      spin 1s steps(1) infinite;\n",
              "  }\n",
              "\n",
              "  @keyframes spin {\n",
              "    0% {\n",
              "      border-color: transparent;\n",
              "      border-bottom-color: var(--fill-color);\n",
              "      border-left-color: var(--fill-color);\n",
              "    }\n",
              "    20% {\n",
              "      border-color: transparent;\n",
              "      border-left-color: var(--fill-color);\n",
              "      border-top-color: var(--fill-color);\n",
              "    }\n",
              "    30% {\n",
              "      border-color: transparent;\n",
              "      border-left-color: var(--fill-color);\n",
              "      border-top-color: var(--fill-color);\n",
              "      border-right-color: var(--fill-color);\n",
              "    }\n",
              "    40% {\n",
              "      border-color: transparent;\n",
              "      border-right-color: var(--fill-color);\n",
              "      border-top-color: var(--fill-color);\n",
              "    }\n",
              "    60% {\n",
              "      border-color: transparent;\n",
              "      border-right-color: var(--fill-color);\n",
              "    }\n",
              "    80% {\n",
              "      border-color: transparent;\n",
              "      border-right-color: var(--fill-color);\n",
              "      border-bottom-color: var(--fill-color);\n",
              "    }\n",
              "    90% {\n",
              "      border-color: transparent;\n",
              "      border-bottom-color: var(--fill-color);\n",
              "    }\n",
              "  }\n",
              "</style>\n",
              "\n",
              "  <script>\n",
              "    async function quickchart(key) {\n",
              "      const quickchartButtonEl =\n",
              "        document.querySelector('#' + key + ' button');\n",
              "      quickchartButtonEl.disabled = true;  // To prevent multiple clicks.\n",
              "      quickchartButtonEl.classList.add('colab-df-spinner');\n",
              "      try {\n",
              "        const charts = await google.colab.kernel.invokeFunction(\n",
              "            'suggestCharts', [key], {});\n",
              "      } catch (error) {\n",
              "        console.error('Error during call to suggestCharts:', error);\n",
              "      }\n",
              "      quickchartButtonEl.classList.remove('colab-df-spinner');\n",
              "      quickchartButtonEl.classList.add('colab-df-quickchart-complete');\n",
              "    }\n",
              "    (() => {\n",
              "      let quickchartButtonEl =\n",
              "        document.querySelector('#df-0c4dea46-718c-46c9-8e21-3a9ce9793d2f button');\n",
              "      quickchartButtonEl.style.display =\n",
              "        google.colab.kernel.accessAllowed ? 'block' : 'none';\n",
              "    })();\n",
              "  </script>\n",
              "</div>\n",
              "    </div>\n",
              "  </div>\n"
            ],
            "application/vnd.google.colaboratory.intrinsic+json": {
              "type": "dataframe",
              "variable_name": "df",
              "summary": "{\n  \"name\": \"df\",\n  \"rows\": 33444,\n  \"fields\": [\n    {\n      \"column\": \"UserName\",\n      \"properties\": {\n        \"dtype\": \"number\",\n        \"std\": 11875,\n        \"min\": 3800,\n        \"max\": 44955,\n        \"num_unique_values\": 33444,\n        \"samples\": [\n          33995,\n          17124,\n          18421\n        ],\n        \"semantic_type\": \"\",\n        \"description\": \"\"\n      }\n    },\n    {\n      \"column\": \"ScreenName\",\n      \"properties\": {\n        \"dtype\": \"number\",\n        \"std\": 11875,\n        \"min\": 48752,\n        \"max\": 89907,\n        \"num_unique_values\": 33444,\n        \"samples\": [\n          78947,\n          62076,\n          63373\n        ],\n        \"semantic_type\": \"\",\n        \"description\": \"\"\n      }\n    },\n    {\n      \"column\": \"Location\",\n      \"properties\": {\n        \"dtype\": \"category\",\n        \"num_unique_values\": 10465,\n        \"samples\": [\n          \"Kitchener | Ontario | Canada\",\n          \"Montr\\u00c3\\u0083\\u00c2\\u00a9al\",\n          \"England. Germany.\"\n        ],\n        \"semantic_type\": \"\",\n        \"description\": \"\"\n      }\n    },\n    {\n      \"column\": \"TweetAt\",\n      \"properties\": {\n        \"dtype\": \"object\",\n        \"num_unique_values\": 30,\n        \"samples\": [\n          \"12-04-2020\",\n          \"31-03-2020\",\n          \"08-04-2020\"\n        ],\n        \"semantic_type\": \"\",\n        \"description\": \"\"\n      }\n    },\n    {\n      \"column\": \"OriginalTweet\",\n      \"properties\": {\n        \"dtype\": \"string\",\n        \"num_unique_values\": 33444,\n        \"samples\": [\n          \"US death toll is way less than estimated. This I hope will bring back consumer confidence #coronavirus #Covid_19 #CoronavirusUSA\",\n          \"We will get through this by people helping people and not stock piling food and toiletries, selfish pricks #Covid_19\",\n          \"#rice prices soar to two-year high, traders blame it on #coronavirus panic buying, writes #YasirWardad https://t.co/hIXzS1DKdo #FE via @febdonline\"\n        ],\n        \"semantic_type\": \"\",\n        \"description\": \"\"\n      }\n    },\n    {\n      \"column\": \"Sentiment\",\n      \"properties\": {\n        \"dtype\": \"number\",\n        \"std\": 0,\n        \"min\": 0,\n        \"max\": 1,\n        \"num_unique_values\": 2,\n        \"samples\": [\n          0,\n          1\n        ],\n        \"semantic_type\": \"\",\n        \"description\": \"\"\n      }\n    }\n  ]\n}"
            }
          },
          "metadata": {},
          "execution_count": 3
        }
      ]
    },
    {
      "cell_type": "markdown",
      "source": [
        "Сбалансированы ли классы?"
      ],
      "metadata": {
        "id": "UonQSvATezEf"
      }
    },
    {
      "cell_type": "code",
      "source": [
        "classes_balance = df['Sentiment'].value_counts(normalize=True)\n",
        "classes_balance"
      ],
      "metadata": {
        "colab": {
          "base_uri": "https://localhost:8080/"
        },
        "id": "JMZfl_8Ze1AQ",
        "outputId": "69045777-8fe1-4fb9-9039-bc8d6f4277bd"
      },
      "execution_count": 4,
      "outputs": [
        {
          "output_type": "execute_result",
          "data": {
            "text/plain": [
              "Sentiment\n",
              "1    0.539589\n",
              "0    0.460411\n",
              "Name: proportion, dtype: float64"
            ]
          },
          "metadata": {},
          "execution_count": 4
        }
      ]
    },
    {
      "cell_type": "markdown",
      "source": [
        "**Ответ:** Видим, что сильного перекоса в классах нет, данные хорошо сбалансированы."
      ],
      "metadata": {
        "id": "JO1yFGEEfJZv"
      }
    },
    {
      "cell_type": "markdown",
      "source": [
        "Выведете на экран информацию о пропусках в данных. Если пропуски присутствуют заполните их строкой 'Unknown'."
      ],
      "metadata": {
        "id": "jo0UTehBfR6P"
      }
    },
    {
      "cell_type": "code",
      "source": [
        "no_data_info = df.isnull().sum()\n",
        "no_data_info"
      ],
      "metadata": {
        "colab": {
          "base_uri": "https://localhost:8080/"
        },
        "id": "yVhN_FG7fcrY",
        "outputId": "c8225fea-a22c-4cc3-cf98-38c1977b9888"
      },
      "execution_count": 5,
      "outputs": [
        {
          "output_type": "execute_result",
          "data": {
            "text/plain": [
              "UserName            0\n",
              "ScreenName          0\n",
              "Location         7049\n",
              "TweetAt             0\n",
              "OriginalTweet       0\n",
              "Sentiment           0\n",
              "dtype: int64"
            ]
          },
          "metadata": {},
          "execution_count": 5
        }
      ]
    },
    {
      "cell_type": "markdown",
      "source": [
        "Видим пропуски в Location"
      ],
      "metadata": {
        "id": "T9b78ne4f-ai"
      }
    },
    {
      "cell_type": "code",
      "source": [
        "df['Location'].fillna('Unknown', inplace=True)\n",
        "no_data_info = df.isnull().sum()\n",
        "no_data_info"
      ],
      "metadata": {
        "colab": {
          "base_uri": "https://localhost:8080/"
        },
        "id": "WQuOjYufgD0p",
        "outputId": "f3cc66d2-a977-49bc-9851-8e1c8b278355"
      },
      "execution_count": 6,
      "outputs": [
        {
          "output_type": "execute_result",
          "data": {
            "text/plain": [
              "UserName         0\n",
              "ScreenName       0\n",
              "Location         0\n",
              "TweetAt          0\n",
              "OriginalTweet    0\n",
              "Sentiment        0\n",
              "dtype: int64"
            ]
          },
          "metadata": {},
          "execution_count": 6
        }
      ]
    },
    {
      "cell_type": "markdown",
      "source": [
        "Разделите данные на обучающие и тестовые в соотношении 7 : 3 и random_state=0"
      ],
      "metadata": {
        "id": "txltv48-gPqd"
      }
    },
    {
      "cell_type": "code",
      "source": [
        "from sklearn.model_selection import train_test_split\n",
        "\n",
        "train, test = train_test_split(df, test_size=0.3, random_state=0)\n",
        "train.shape, test.shape"
      ],
      "metadata": {
        "colab": {
          "base_uri": "https://localhost:8080/"
        },
        "id": "4qbLr-hpgSHo",
        "outputId": "78870ecf-bb6f-4c7a-ab70-0cd50c168458"
      },
      "execution_count": 7,
      "outputs": [
        {
          "output_type": "execute_result",
          "data": {
            "text/plain": [
              "((23410, 6), (10034, 6))"
            ]
          },
          "metadata": {},
          "execution_count": 7
        }
      ]
    },
    {
      "cell_type": "code",
      "source": [
        "X_train, X_test, y_train, y_test = train_test_split(\n",
        "    df['OriginalTweet'],\n",
        "    df['Sentiment'],\n",
        "    test_size=0.3,\n",
        "    random_state=0\n",
        ")\n",
        "X_train.shape, X_test.shape, y_train.shape, y_test.shape"
      ],
      "metadata": {
        "colab": {
          "base_uri": "https://localhost:8080/"
        },
        "id": "B-iCDW8FhRFi",
        "outputId": "c6e1f8b2-6261-4e3a-cdb5-590da42ea580"
      },
      "execution_count": 8,
      "outputs": [
        {
          "output_type": "execute_result",
          "data": {
            "text/plain": [
              "((23410,), (10034,), (23410,), (10034,))"
            ]
          },
          "metadata": {},
          "execution_count": 8
        }
      ]
    },
    {
      "cell_type": "markdown",
      "source": [
        "**Задание 2 Токенизация**\n",
        "Постройте словарь на основе обучающей выборки и посчитайте количество встреч каждого токена с использованием самой простой токенизации - деления текстов по пробельным символам и приведение токенов в нижний регистр."
      ],
      "metadata": {
        "id": "G2XX0HayhQNW"
      }
    },
    {
      "cell_type": "code",
      "source": [
        "from collections import Counter\n",
        "\n",
        "token = train['OriginalTweet'].str.lower().str.split().explode().tolist()\n",
        "token_size = Counter(token)\n",
        "len(token_size), token_size.most_common(10)"
      ],
      "metadata": {
        "colab": {
          "base_uri": "https://localhost:8080/"
        },
        "id": "NQ9zJn3dhdK6",
        "outputId": "ef6970d9-2dc5-43e9-b42b-bebb4834fb81"
      },
      "execution_count": 9,
      "outputs": [
        {
          "output_type": "execute_result",
          "data": {
            "text/plain": [
              "(79755,\n",
              " [('the', 26815),\n",
              "  ('to', 23373),\n",
              "  ('and', 14684),\n",
              "  ('of', 13012),\n",
              "  ('a', 11737),\n",
              "  ('in', 11198),\n",
              "  ('for', 8566),\n",
              "  ('#coronavirus', 8223),\n",
              "  ('is', 7383),\n",
              "  ('are', 7050)])"
            ]
          },
          "metadata": {},
          "execution_count": 9
        }
      ]
    },
    {
      "cell_type": "markdown",
      "source": [
        "  Размер словаря - 79755\n",
        "\n",
        "  Причина популярности выведенных токенов - особенность английского языка, мы видим использование предлогов, союзов и тому подобных слов, кроме того, видим один хештэг, его поплурность тоже ясна - наши твиты посвещены теме короновируса."
      ],
      "metadata": {
        "id": "BdpsIs3-iF2y"
      }
    },
    {
      "cell_type": "markdown",
      "source": [
        "Удалите стоп-слова из словаря и выведите новый топ-10 токенов (и количество встреч) по популярности. Что можно сказать о нем?"
      ],
      "metadata": {
        "id": "O16glNpfV998"
      }
    },
    {
      "cell_type": "code",
      "source": [
        "import nltk\n",
        "from nltk.corpus import stopwords\n",
        "\n",
        "nltk.download('stopwords')\n",
        "stop_words = set(stopwords.words('english'))\n",
        "filtered_token = {token: count for token, count in token_size.items() if token not in stop_words}\n",
        "Counter(filtered_token).most_common(10)"
      ],
      "metadata": {
        "colab": {
          "base_uri": "https://localhost:8080/"
        },
        "id": "mtujB0mWWBUe",
        "outputId": "77df50fd-c95d-4002-8d1f-fce1163cac6e"
      },
      "execution_count": 10,
      "outputs": [
        {
          "output_type": "stream",
          "name": "stderr",
          "text": [
            "[nltk_data] Downloading package stopwords to /root/nltk_data...\n",
            "[nltk_data]   Unzipping corpora/stopwords.zip.\n"
          ]
        },
        {
          "output_type": "execute_result",
          "data": {
            "text/plain": [
              "[('#coronavirus', 8223),\n",
              " ('prices', 3891),\n",
              " ('food', 3820),\n",
              " ('grocery', 3469),\n",
              " ('supermarket', 3288),\n",
              " ('people', 3175),\n",
              " ('covid-19', 3173),\n",
              " ('store', 3155),\n",
              " ('#covid19', 2471),\n",
              " ('&amp;', 2314)]"
            ]
          },
          "metadata": {},
          "execution_count": 10
        }
      ]
    },
    {
      "cell_type": "markdown",
      "source": [
        "После фильтрации стало ясно видно что больше всего волнует людей в сложившейся ситуации. Например явно можно сказать, что основные темы - супермаркеты, магазины, цены, еда."
      ],
      "metadata": {
        "id": "pO143J59XysG"
      }
    },
    {
      "cell_type": "markdown",
      "source": [
        "Также выведите 20 самых непопулярных слов (если самых непопулярных слов больше выведите любые 20 из них) Почему эти токены непопулярны, требуется ли как-то дополнительно работать с ними?"
      ],
      "metadata": {
        "id": "OxPhrrhIZXjy"
      }
    },
    {
      "cell_type": "code",
      "source": [
        "Counter(filtered_token).most_common()[-20:]"
      ],
      "metadata": {
        "colab": {
          "base_uri": "https://localhost:8080/"
        },
        "id": "veo-QZutZazh",
        "outputId": "7fa556da-85cb-4f1b-c326-0dec7474887c"
      },
      "execution_count": 11,
      "outputs": [
        {
          "output_type": "execute_result",
          "data": {
            "text/plain": [
              "[('skellig', 1),\n",
              " ('coast!', 1),\n",
              " ('closer!)', 1),\n",
              " ('@skelligsix18', 1),\n",
              " ('#skelligcoast2kms', 1),\n",
              " ('#southkerry', 1),\n",
              " ('https://t.co/zjcl195vqs', 1),\n",
              " ('@srinivasiyc', 1),\n",
              " ('https://t.co/iaek4fwsgz', 1),\n",
              " ('premiership', 1),\n",
              " ('non-playing', 1),\n",
              " ('subsidise', 1),\n",
              " ('playersã\\x82â\\x92', 1),\n",
              " ('renewing', 1),\n",
              " ('wage!', 1),\n",
              " ('flew', 1),\n",
              " ('nothing...', 1),\n",
              " ('@torontopearson', 1),\n",
              " ('@680news', 1),\n",
              " ('https://t.co/7j2y3rsld9', 1)]"
            ]
          },
          "metadata": {},
          "execution_count": 11
        }
      ]
    },
    {
      "cell_type": "markdown",
      "source": [
        "Непопулярность выведенных токенов ясна - это либо тег определенных пользователей, либо ссылки, либо слова с ошибками, или редко встречающиеся термины в языке. По сути они не несут никакой полезности в дальнейшем, по ним мы ничего не определим, поэтому их вполне можно удалить."
      ],
      "metadata": {
        "id": "0f8-cQdzbdf8"
      }
    },
    {
      "cell_type": "markdown",
      "source": [
        "Теперь воспользуемся токенайзером получше - TweetTokenizer из библиотеки nltk. Примените его и посмотрите на топ-10 популярных слов. Чем он отличается от топа, который получался раньше? Почему?"
      ],
      "metadata": {
        "id": "e6jKw7evvjjj"
      }
    },
    {
      "cell_type": "code",
      "source": [
        "from nltk.tokenize import TweetTokenizer\n",
        "\n",
        "tokenizer = TweetTokenizer()\n",
        "token_lists = train['OriginalTweet'].apply(tokenizer.tokenize)\n",
        "all_tokens = [token for sublist in token_lists for token in sublist]\n",
        "Counter(all_tokens).most_common(10)"
      ],
      "metadata": {
        "colab": {
          "base_uri": "https://localhost:8080/"
        },
        "id": "InVC5xjgvkqv",
        "outputId": "333ebcbf-d2be-47cc-97c7-26e8542c865f"
      },
      "execution_count": 12,
      "outputs": [
        {
          "output_type": "execute_result",
          "data": {
            "text/plain": [
              "[('the', 24337),\n",
              " ('.', 24118),\n",
              " ('to', 22933),\n",
              " (',', 17571),\n",
              " ('and', 14354),\n",
              " ('of', 12904),\n",
              " ('a', 11045),\n",
              " ('in', 10573),\n",
              " ('?', 9524),\n",
              " ('for', 8228)]"
            ]
          },
          "metadata": {},
          "execution_count": 12
        }
      ]
    },
    {
      "cell_type": "markdown",
      "source": [
        "Кроме предлогов, союзов и артиклей, появились знаки припенании"
      ],
      "metadata": {
        "id": "5Gp055H4wxnT"
      }
    },
    {
      "cell_type": "markdown",
      "source": [
        "Удалите из словаря стоп-слова и пунктуацию, посмотрите на новый топ-10 слов с количеством встреч, есть ли теперь в нем что-то не похожее на слова?"
      ],
      "metadata": {
        "id": "aFmog8kww7Dd"
      }
    },
    {
      "cell_type": "code",
      "source": [
        "from nltk.corpus import stopwords\n",
        "from string import punctuation\n",
        "\n",
        "nltk.download('stopwords')\n",
        "stop_words = set(stopwords.words('english'))\n",
        "punctuation_set = set(punctuation)\n",
        "filtered_tokens = {word: count for word, count in Counter(all_tokens).items() if word not in stop_words and word not in punctuation_set}\n",
        "Counter(filtered_tokens).most_common(10)"
      ],
      "metadata": {
        "colab": {
          "base_uri": "https://localhost:8080/"
        },
        "id": "BiU8wvUIw-nG",
        "outputId": "088e74b1-9ebe-4bef-f345-a6aaf47bd489"
      },
      "execution_count": 13,
      "outputs": [
        {
          "output_type": "stream",
          "name": "stderr",
          "text": [
            "[nltk_data] Downloading package stopwords to /root/nltk_data...\n",
            "[nltk_data]   Package stopwords is already up-to-date!\n"
          ]
        },
        {
          "output_type": "execute_result",
          "data": {
            "text/plain": [
              "[('Â', 7415),\n",
              " ('\\x82', 7311),\n",
              " ('19', 7167),\n",
              " ('#coronavirus', 7143),\n",
              " ('I', 5235),\n",
              " ('\\x92', 4372),\n",
              " ('prices', 4281),\n",
              " ('COVID', 4218),\n",
              " ('food', 3795),\n",
              " ('store', 3691)]"
            ]
          },
          "metadata": {},
          "execution_count": 13
        }
      ]
    },
    {
      "cell_type": "markdown",
      "source": [
        "Слова появились, но и не слова тоже, например 'Â' или '\\x82', это символы скорее всего из HTML, не несут никакой нужности."
      ],
      "metadata": {
        "id": "Wyj_U_hazTay"
      }
    },
    {
      "cell_type": "markdown",
      "source": [
        "Удалите из словаря токены из одного символа, с позицией в таблице Unicode 128 и более (ord(x) >= 128)\n",
        "\n",
        "Выведите топ-10 самых популярных и топ-20 непопулярных слов. Чем полученные топы отличаются от итоговых топов, полученных при использовании токенизации по пробелам? Что теперь лучше, а что хуже?"
      ],
      "metadata": {
        "id": "Q95KcuoFz64j"
      }
    },
    {
      "cell_type": "code",
      "source": [
        "unicode_tokens = {word: count for word, count in filtered_tokens.items() if len(word) > 1 and all(ord(char) < 128 for char in word)}\n",
        "Counter(unicode_tokens).most_common(10)"
      ],
      "metadata": {
        "colab": {
          "base_uri": "https://localhost:8080/"
        },
        "id": "uGA3BDdqz9cJ",
        "outputId": "4e173fe0-edc5-4435-feb8-3ff50b4587c8"
      },
      "execution_count": 14,
      "outputs": [
        {
          "output_type": "execute_result",
          "data": {
            "text/plain": [
              "[('19', 7167),\n",
              " ('#coronavirus', 7143),\n",
              " ('prices', 4281),\n",
              " ('COVID', 4218),\n",
              " ('food', 3795),\n",
              " ('store', 3691),\n",
              " ('supermarket', 3373),\n",
              " ('grocery', 3083),\n",
              " ('people', 3047),\n",
              " ('The', 2516)]"
            ]
          },
          "metadata": {},
          "execution_count": 14
        }
      ]
    },
    {
      "cell_type": "code",
      "source": [
        "Counter(unicode_tokens).most_common()[-20:]"
      ],
      "metadata": {
        "colab": {
          "base_uri": "https://localhost:8080/"
        },
        "id": "Pi6qoZvB0y1F",
        "outputId": "70432874-57cc-42a5-ebf9-0971d848aba2"
      },
      "execution_count": 15,
      "outputs": [
        {
          "output_type": "execute_result",
          "data": {
            "text/plain": [
              "[('https://t.co/5cBLIqZX7L', 1),\n",
              " ('ruins', 1),\n",
              " ('now.When', 1),\n",
              " ('milion', 1),\n",
              " ('Skellig', 1),\n",
              " ('@SkelligSix18', 1),\n",
              " ('#SkelligCoast2kms', 1),\n",
              " ('#SouthKerry', 1),\n",
              " ('https://t.co/zJcL195VQS', 1),\n",
              " ('@srinivasiyc', 1),\n",
              " ('https://t.co/IAEK4fWsgz', 1),\n",
              " ('Vile', 1),\n",
              " ('premiership', 1),\n",
              " ('non-playing', 1),\n",
              " ('subsidise', 1),\n",
              " ('renewing', 1),\n",
              " ('flew', 1),\n",
              " ('@TorontoPearson', 1),\n",
              " ('@680NEWS', 1),\n",
              " ('https://t.co/7j2Y3rSld9', 1)]"
            ]
          },
          "metadata": {},
          "execution_count": 15
        }
      ]
    },
    {
      "cell_type": "markdown",
      "source": [
        "Как видим, теперь в топе нормальные слова. Теперь нет символов не несущих смысла, в топе самых редких слов все осталось примерно так же. Некоторые слова пропали на этапах фильтрации. В целом теперь стало гораздо чище, что должно улучшить точность модели в будущем."
      ],
      "metadata": {
        "id": "1xISZrg2054e"
      }
    },
    {
      "cell_type": "markdown",
      "source": [
        "Выведите топ-10 популярных хештегов с количеством встреч. Что можно сказать о них?"
      ],
      "metadata": {
        "id": "ogLseGW42vlU"
      }
    },
    {
      "cell_type": "code",
      "source": [
        "hashtags = {word: count for word, count in Counter(unicode_tokens).items() if word.startswith('#')}\n",
        "Counter(hashtags).most_common(10)"
      ],
      "metadata": {
        "colab": {
          "base_uri": "https://localhost:8080/"
        },
        "id": "5ZCZ4G702wKS",
        "outputId": "b5c46912-fbbe-444a-f0e8-9b7cf8d11089"
      },
      "execution_count": 16,
      "outputs": [
        {
          "output_type": "execute_result",
          "data": {
            "text/plain": [
              "[('#coronavirus', 7143),\n",
              " ('#COVID19', 1844),\n",
              " ('#Covid_19', 1463),\n",
              " ('#Coronavirus', 1281),\n",
              " ('#COVID2019', 927),\n",
              " ('#toiletpaper', 657),\n",
              " ('#covid19', 568),\n",
              " ('#COVID', 542),\n",
              " ('#CoronaCrisis', 426),\n",
              " ('#CoronaVirus', 351)]"
            ]
          },
          "metadata": {},
          "execution_count": 16
        }
      ]
    },
    {
      "cell_type": "markdown",
      "source": [
        "Все хэштеги посвещены теме короновируса и лишь один выделяется - '#toiletpaper', как мы помним так же наболевшая тема в момент пондемии."
      ],
      "metadata": {
        "id": "jak1MkCt365e"
      }
    },
    {
      "cell_type": "markdown",
      "source": [
        "То же самое проделайте для ссылок на сайт https://t.co Сравнима ли популярность ссылок с популярностью хештегов? Будет ли информация о ссылке на конкретную страницу полезна?"
      ],
      "metadata": {
        "id": "khsJu4F-4JXb"
      }
    },
    {
      "cell_type": "code",
      "source": [
        "links = {word: count for word, count in Counter(unicode_tokens).items() if word.startswith('https://t.co')}\n",
        "Counter(links).most_common(10)"
      ],
      "metadata": {
        "colab": {
          "base_uri": "https://localhost:8080/"
        },
        "id": "qYUfvIIm4L7a",
        "outputId": "7c99f8d0-b2c9-4b9d-e094-793b9519c5e2"
      },
      "execution_count": 17,
      "outputs": [
        {
          "output_type": "execute_result",
          "data": {
            "text/plain": [
              "[('https://t.co/oXA7SWtoNd', 5),\n",
              " ('https://t.co/gP3EusapL8', 4),\n",
              " ('https://t.co/WrLHYzIzAA', 3),\n",
              " ('https://t.co/kuwIpF1KQW', 3),\n",
              " ('https://t.co/zjNRx6dKKN', 3),\n",
              " ('https://t.co/3GBBDpdjat', 3),\n",
              " ('https://t.co/e2ZNXajPre', 3),\n",
              " ('https://t.co/CATKegAyOY', 3),\n",
              " ('https://t.co/G63RP042HO', 3),\n",
              " ('https://t.co/AZIqCdgrNn', 3)]"
            ]
          },
          "metadata": {},
          "execution_count": 17
        }
      ]
    },
    {
      "cell_type": "markdown",
      "source": [
        "Упоминании ссылок очень мало, несравнимо мало по сравнению с хэштегами, информативной полезности не несут."
      ],
      "metadata": {
        "id": "LJybnIit4ZYQ"
      }
    },
    {
      "cell_type": "markdown",
      "source": [
        "Используем опыт предыдущих экспериментов и напишем собственный токенайзер, улучшив TweetTokenizer. Функция tokenize должна:\n",
        "\n",
        "Привести текст в нижний регистр\n",
        "Применить TweetTokenizer для изначального выделения токенов\n",
        "Удалить стоп-слова, пунктуацию, токены из одного символа, с позицией в таблице Unicode 128 и более и ссылки на t.co"
      ],
      "metadata": {
        "id": "SYtihVPZ4mOG"
      }
    },
    {
      "cell_type": "code",
      "source": [
        "def custom_tokenizer(text):\n",
        "  text = text.lower()\n",
        "  tknzr = TweetTokenizer()\n",
        "  tokens = tknzr.tokenize(text)\n",
        "  tokens = [\n",
        "      token for token in tokens if token not in stop_words and\n",
        "      token not in punctuation_set and\n",
        "      len(token) > 1 and\n",
        "      all(ord(char) < 128 for char in token) and\n",
        "      not token.startswith('https://t.co')\n",
        "  ]\n",
        "  return tokens\n",
        "\n",
        "custom_tokenizer('This is sample text!!!! @Sample_text I, \\x92\\x92 https://t.co/sample  #sampletext')"
      ],
      "metadata": {
        "colab": {
          "base_uri": "https://localhost:8080/"
        },
        "id": "L1iA_VDb5bXZ",
        "outputId": "273020ae-244d-42ab-8a89-4fdce8220828"
      },
      "execution_count": 18,
      "outputs": [
        {
          "output_type": "execute_result",
          "data": {
            "text/plain": [
              "['sample', 'text', '@sample_text', '#sampletext']"
            ]
          },
          "metadata": {},
          "execution_count": 18
        }
      ]
    },
    {
      "cell_type": "markdown",
      "source": [
        "**Задание 3 Векторизация текстов (2 балла)**\n",
        "Обучите CountVectorizer с использованием custom_tokenizer в качестве токенайзера. Как размер полученного словаря соотносится с размером изначального словаря из начала задания 2?"
      ],
      "metadata": {
        "id": "y9MNcaGr_39K"
      }
    },
    {
      "cell_type": "code",
      "source": [
        "from sklearn.feature_extraction.text import CountVectorizer\n",
        "\n",
        "cv = CountVectorizer(tokenizer=custom_tokenizer)\n",
        "token = train['OriginalTweet']\n",
        "cv.fit(token)\n",
        "print(len(cv.vocabulary_))"
      ],
      "metadata": {
        "colab": {
          "base_uri": "https://localhost:8080/"
        },
        "id": "bIUqU8ya_5D_",
        "outputId": "01e532ba-c355-418d-9f4c-8875551ada5b"
      },
      "execution_count": 19,
      "outputs": [
        {
          "output_type": "stream",
          "name": "stderr",
          "text": [
            "/usr/local/lib/python3.10/dist-packages/sklearn/feature_extraction/text.py:528: UserWarning: The parameter 'token_pattern' will not be used since 'tokenizer' is not None'\n",
            "  warnings.warn(\n"
          ]
        },
        {
          "output_type": "stream",
          "name": "stdout",
          "text": [
            "44104\n"
          ]
        }
      ]
    },
    {
      "cell_type": "markdown",
      "source": [
        "Разница колосальная, почти в два раза. До векторизации было 79755, после всех процедур - 44104."
      ],
      "metadata": {
        "id": "TFlybWDwDr52"
      }
    },
    {
      "cell_type": "markdown",
      "source": [
        "Посмотрим на какой-нибудь конкретный твит:"
      ],
      "metadata": {
        "id": "f44LxV2gTwpq"
      }
    },
    {
      "cell_type": "code",
      "source": [
        "ind = 9023\n",
        "train.iloc[ind]['OriginalTweet'], train.iloc[ind]['Sentiment']"
      ],
      "metadata": {
        "colab": {
          "base_uri": "https://localhost:8080/"
        },
        "id": "ujpZEeiyUs8W",
        "outputId": "d3cdd4fa-4aba-47c0-a7fd-e246952a47e8"
      },
      "execution_count": 20,
      "outputs": [
        {
          "output_type": "execute_result",
          "data": {
            "text/plain": [
              "('Nice one @SkyNews lets not panic but show ppl in france queueing for food!!! #CoronavirusOutbreak #COVID2019 brainless!! Ffs',\n",
              " 0)"
            ]
          },
          "metadata": {},
          "execution_count": 20
        }
      ]
    },
    {
      "cell_type": "markdown",
      "source": [
        "Автор твитта не доволен ситуацией с едой во Франции и текст имеет резко негативную окраску.\n",
        "\n",
        "Примените обученный CountVectorizer для векторизации данного текста, и попытайтесь определить самый важный токен и самый неважный токен (токен, компонента которого в векторе максимальна/минимальна, без учета 0). Хорошо ли они определились, почему?"
      ],
      "metadata": {
        "id": "egDAw9kZUyuU"
      }
    },
    {
      "cell_type": "code",
      "source": [
        "tweet_text = train.iloc[ind]['OriginalTweet']\n",
        "tweet_vector = cv.transform([tweet_text]).toarray()[0]\n",
        "\n",
        "indices = [i for i, x in enumerate(tweet_vector) if x > 0]\n",
        "values = tweet_vector[indices]\n",
        "\n",
        "max_index = indices[values.argmax()]\n",
        "min_index = indices[values.argmin()]\n",
        "\n",
        "vocabulary = cv.get_feature_names_out()\n",
        "important_token = vocabulary[max_index]\n",
        "least_important_token = vocabulary[min_index]\n",
        "\n",
        "important_token, least_important_token"
      ],
      "metadata": {
        "colab": {
          "base_uri": "https://localhost:8080/"
        },
        "id": "X-Z9pkgoU1s-",
        "outputId": "2bdbab28-7d06-41af-a919-69e29d137cf2"
      },
      "execution_count": 21,
      "outputs": [
        {
          "output_type": "execute_result",
          "data": {
            "text/plain": [
              "('#coronavirusoutbreak', '#coronavirusoutbreak')"
            ]
          },
          "metadata": {},
          "execution_count": 21
        }
      ]
    },
    {
      "cell_type": "markdown",
      "source": [
        "Получился интересный результат - самый важный и неважный токен один и тот же. Это связано с тем, что после всех процедур обработки у нас остался единственный ненулевой токен."
      ],
      "metadata": {
        "id": "jLmW0NlLXd2K"
      }
    },
    {
      "cell_type": "markdown",
      "source": [
        "Теперь примените TfidfVectorizer и определите самый важный/неважный токены. Хорошо ли определились, почему?"
      ],
      "metadata": {
        "id": "5wW_5U2OYqN_"
      }
    },
    {
      "cell_type": "code",
      "source": [
        "from sklearn.feature_extraction.text import TfidfVectorizer\n",
        "\n",
        "tfidf = TfidfVectorizer(tokenizer=custom_tokenizer)\n",
        "tfidf.fit(train['OriginalTweet'].tolist())\n",
        "tweet_tfidf_vector = tfidf.transform([tweet_text]).toarray()[0]\n",
        "non_zero_indices_tfidf = [i for i, x in enumerate(tweet_tfidf_vector) if x > 0]\n",
        "\n",
        "non_zero_values_tfidf = tweet_tfidf_vector[non_zero_indices_tfidf]\n",
        "max_index_tfidf = non_zero_indices_tfidf[non_zero_values_tfidf.argmax()]\n",
        "min_index_tfidf = non_zero_indices_tfidf[non_zero_values_tfidf.argmin()]\n",
        "vocabulary_tfidf = tfidf.get_feature_names_out()\n",
        "most_important_token_tfidf = vocabulary_tfidf[max_index_tfidf]\n",
        "least_important_token_tfidf = vocabulary_tfidf[min_index_tfidf]\n",
        "print(f\"TfidfVectorizer - Most important: {most_important_token_tfidf}, Least important: {least_important_token_tfidf}\")"
      ],
      "metadata": {
        "colab": {
          "base_uri": "https://localhost:8080/"
        },
        "id": "rmX01ZOSYuEK",
        "outputId": "08d4376e-24c8-4f3c-b523-7da2a2a2aba1"
      },
      "execution_count": 22,
      "outputs": [
        {
          "output_type": "stream",
          "name": "stdout",
          "text": [
            "TfidfVectorizer - Most important: brainless, Least important: food\n"
          ]
        }
      ]
    },
    {
      "cell_type": "markdown",
      "source": [
        "Самое важное слово у нас получилось \"brainless\", оно несет в себе негативный окрас, по этому слову моделе проще всего понять окрас и на нем действительно стоить заострить внимание, тк по сарказму в начале предложения мы можем запутаться. Поэтому в целом все получилось хорошо."
      ],
      "metadata": {
        "id": "tY3VB4cxd6uD"
      }
    },
    {
      "cell_type": "markdown",
      "source": [
        "Найдите какой-нибудь положительно окрашенный твитт, где TfidfVectorizer хорошо (полезно для определения окраски) выделяет важный токен, поясните пример.\n",
        "\n",
        "Подсказка: явно положительные твитты можно искать при помощи положительных слов (good, great, amazing и т. д.)"
      ],
      "metadata": {
        "id": "XF2FQK3zfEQD"
      }
    },
    {
      "cell_type": "code",
      "source": [
        "positive_tweets = train[(train['OriginalTweet'].str.contains('amazing', case=False)) & (train['Sentiment'] == 1)]\n",
        "positive_tweets"
      ],
      "metadata": {
        "colab": {
          "base_uri": "https://localhost:8080/",
          "height": 424
        },
        "id": "d1HzeDYZj_zX",
        "outputId": "2ffeb149-1531-4871-be4d-e3cda3195a16"
      },
      "execution_count": 23,
      "outputs": [
        {
          "output_type": "execute_result",
          "data": {
            "text/plain": [
              "       UserName  ScreenName                      Location     TweetAt  \\\n",
              "4583       9362       54314              Moulton, England  19-03-2020   \n",
              "14710     21683       66635  iPhone: 30.738749,-89.852348  23-03-2020   \n",
              "27471     37481       82433                  New York, NY  08-04-2020   \n",
              "8221      13787       58739                       Unknown  20-03-2020   \n",
              "3183       7654       52606               London, England  18-03-2020   \n",
              "...         ...         ...                           ...         ...   \n",
              "8199      13757       58709                 Wrightington   20-03-2020   \n",
              "11636     17911       62863                     Australia  21-03-2020   \n",
              "23018     31918       76870             Karachi, Pakistan  04-04-2020   \n",
              "5208      10126       55078                       Unknown  19-03-2020   \n",
              "469        4365       49317                     TaÃÂ¯wan  16-03-2020   \n",
              "\n",
              "                                           OriginalTweet  Sentiment  \n",
              "4583   Hearing so many stories of NHS heroes Teachers...          1  \n",
              "14710  Amazing how some of the lowest paid people in ...          1  \n",
              "27471  Amazing and admirable work being done by all g...          1  \n",
              "8221   Let s just take a minute to say THANK YOU also...          1  \n",
              "3183   Back at the \"Frontline\"\\r\\r\\nA massive shout o...          1  \n",
              "...                                                  ...        ...  \n",
              "8199   The support from customers this week has been ...          1  \n",
              "11636  Margot Robbie is an amazing actress, and love ...          1  \n",
              "23018  Face Mask (Pack of 5) ÃÂ Meeting the need of...          1  \n",
              "5208   There's some amazing work going on in the worl...          1  \n",
              "469    #COVID19 19 A friend of mine in the US works a...          1  \n",
              "\n",
              "[93 rows x 6 columns]"
            ],
            "text/html": [
              "\n",
              "  <div id=\"df-6e5a1935-c242-483e-9d9e-8677cb944962\" class=\"colab-df-container\">\n",
              "    <div>\n",
              "<style scoped>\n",
              "    .dataframe tbody tr th:only-of-type {\n",
              "        vertical-align: middle;\n",
              "    }\n",
              "\n",
              "    .dataframe tbody tr th {\n",
              "        vertical-align: top;\n",
              "    }\n",
              "\n",
              "    .dataframe thead th {\n",
              "        text-align: right;\n",
              "    }\n",
              "</style>\n",
              "<table border=\"1\" class=\"dataframe\">\n",
              "  <thead>\n",
              "    <tr style=\"text-align: right;\">\n",
              "      <th></th>\n",
              "      <th>UserName</th>\n",
              "      <th>ScreenName</th>\n",
              "      <th>Location</th>\n",
              "      <th>TweetAt</th>\n",
              "      <th>OriginalTweet</th>\n",
              "      <th>Sentiment</th>\n",
              "    </tr>\n",
              "  </thead>\n",
              "  <tbody>\n",
              "    <tr>\n",
              "      <th>4583</th>\n",
              "      <td>9362</td>\n",
              "      <td>54314</td>\n",
              "      <td>Moulton, England</td>\n",
              "      <td>19-03-2020</td>\n",
              "      <td>Hearing so many stories of NHS heroes Teachers...</td>\n",
              "      <td>1</td>\n",
              "    </tr>\n",
              "    <tr>\n",
              "      <th>14710</th>\n",
              "      <td>21683</td>\n",
              "      <td>66635</td>\n",
              "      <td>iPhone: 30.738749,-89.852348</td>\n",
              "      <td>23-03-2020</td>\n",
              "      <td>Amazing how some of the lowest paid people in ...</td>\n",
              "      <td>1</td>\n",
              "    </tr>\n",
              "    <tr>\n",
              "      <th>27471</th>\n",
              "      <td>37481</td>\n",
              "      <td>82433</td>\n",
              "      <td>New York, NY</td>\n",
              "      <td>08-04-2020</td>\n",
              "      <td>Amazing and admirable work being done by all g...</td>\n",
              "      <td>1</td>\n",
              "    </tr>\n",
              "    <tr>\n",
              "      <th>8221</th>\n",
              "      <td>13787</td>\n",
              "      <td>58739</td>\n",
              "      <td>Unknown</td>\n",
              "      <td>20-03-2020</td>\n",
              "      <td>Let s just take a minute to say THANK YOU also...</td>\n",
              "      <td>1</td>\n",
              "    </tr>\n",
              "    <tr>\n",
              "      <th>3183</th>\n",
              "      <td>7654</td>\n",
              "      <td>52606</td>\n",
              "      <td>London, England</td>\n",
              "      <td>18-03-2020</td>\n",
              "      <td>Back at the \"Frontline\"\\r\\r\\nA massive shout o...</td>\n",
              "      <td>1</td>\n",
              "    </tr>\n",
              "    <tr>\n",
              "      <th>...</th>\n",
              "      <td>...</td>\n",
              "      <td>...</td>\n",
              "      <td>...</td>\n",
              "      <td>...</td>\n",
              "      <td>...</td>\n",
              "      <td>...</td>\n",
              "    </tr>\n",
              "    <tr>\n",
              "      <th>8199</th>\n",
              "      <td>13757</td>\n",
              "      <td>58709</td>\n",
              "      <td>Wrightington</td>\n",
              "      <td>20-03-2020</td>\n",
              "      <td>The support from customers this week has been ...</td>\n",
              "      <td>1</td>\n",
              "    </tr>\n",
              "    <tr>\n",
              "      <th>11636</th>\n",
              "      <td>17911</td>\n",
              "      <td>62863</td>\n",
              "      <td>Australia</td>\n",
              "      <td>21-03-2020</td>\n",
              "      <td>Margot Robbie is an amazing actress, and love ...</td>\n",
              "      <td>1</td>\n",
              "    </tr>\n",
              "    <tr>\n",
              "      <th>23018</th>\n",
              "      <td>31918</td>\n",
              "      <td>76870</td>\n",
              "      <td>Karachi, Pakistan</td>\n",
              "      <td>04-04-2020</td>\n",
              "      <td>Face Mask (Pack of 5) ÃÂ Meeting the need of...</td>\n",
              "      <td>1</td>\n",
              "    </tr>\n",
              "    <tr>\n",
              "      <th>5208</th>\n",
              "      <td>10126</td>\n",
              "      <td>55078</td>\n",
              "      <td>Unknown</td>\n",
              "      <td>19-03-2020</td>\n",
              "      <td>There's some amazing work going on in the worl...</td>\n",
              "      <td>1</td>\n",
              "    </tr>\n",
              "    <tr>\n",
              "      <th>469</th>\n",
              "      <td>4365</td>\n",
              "      <td>49317</td>\n",
              "      <td>TaÃÂ¯wan</td>\n",
              "      <td>16-03-2020</td>\n",
              "      <td>#COVID19 19 A friend of mine in the US works a...</td>\n",
              "      <td>1</td>\n",
              "    </tr>\n",
              "  </tbody>\n",
              "</table>\n",
              "<p>93 rows × 6 columns</p>\n",
              "</div>\n",
              "    <div class=\"colab-df-buttons\">\n",
              "\n",
              "  <div class=\"colab-df-container\">\n",
              "    <button class=\"colab-df-convert\" onclick=\"convertToInteractive('df-6e5a1935-c242-483e-9d9e-8677cb944962')\"\n",
              "            title=\"Convert this dataframe to an interactive table.\"\n",
              "            style=\"display:none;\">\n",
              "\n",
              "  <svg xmlns=\"http://www.w3.org/2000/svg\" height=\"24px\" viewBox=\"0 -960 960 960\">\n",
              "    <path d=\"M120-120v-720h720v720H120Zm60-500h600v-160H180v160Zm220 220h160v-160H400v160Zm0 220h160v-160H400v160ZM180-400h160v-160H180v160Zm440 0h160v-160H620v160ZM180-180h160v-160H180v160Zm440 0h160v-160H620v160Z\"/>\n",
              "  </svg>\n",
              "    </button>\n",
              "\n",
              "  <style>\n",
              "    .colab-df-container {\n",
              "      display:flex;\n",
              "      gap: 12px;\n",
              "    }\n",
              "\n",
              "    .colab-df-convert {\n",
              "      background-color: #E8F0FE;\n",
              "      border: none;\n",
              "      border-radius: 50%;\n",
              "      cursor: pointer;\n",
              "      display: none;\n",
              "      fill: #1967D2;\n",
              "      height: 32px;\n",
              "      padding: 0 0 0 0;\n",
              "      width: 32px;\n",
              "    }\n",
              "\n",
              "    .colab-df-convert:hover {\n",
              "      background-color: #E2EBFA;\n",
              "      box-shadow: 0px 1px 2px rgba(60, 64, 67, 0.3), 0px 1px 3px 1px rgba(60, 64, 67, 0.15);\n",
              "      fill: #174EA6;\n",
              "    }\n",
              "\n",
              "    .colab-df-buttons div {\n",
              "      margin-bottom: 4px;\n",
              "    }\n",
              "\n",
              "    [theme=dark] .colab-df-convert {\n",
              "      background-color: #3B4455;\n",
              "      fill: #D2E3FC;\n",
              "    }\n",
              "\n",
              "    [theme=dark] .colab-df-convert:hover {\n",
              "      background-color: #434B5C;\n",
              "      box-shadow: 0px 1px 3px 1px rgba(0, 0, 0, 0.15);\n",
              "      filter: drop-shadow(0px 1px 2px rgba(0, 0, 0, 0.3));\n",
              "      fill: #FFFFFF;\n",
              "    }\n",
              "  </style>\n",
              "\n",
              "    <script>\n",
              "      const buttonEl =\n",
              "        document.querySelector('#df-6e5a1935-c242-483e-9d9e-8677cb944962 button.colab-df-convert');\n",
              "      buttonEl.style.display =\n",
              "        google.colab.kernel.accessAllowed ? 'block' : 'none';\n",
              "\n",
              "      async function convertToInteractive(key) {\n",
              "        const element = document.querySelector('#df-6e5a1935-c242-483e-9d9e-8677cb944962');\n",
              "        const dataTable =\n",
              "          await google.colab.kernel.invokeFunction('convertToInteractive',\n",
              "                                                    [key], {});\n",
              "        if (!dataTable) return;\n",
              "\n",
              "        const docLinkHtml = 'Like what you see? Visit the ' +\n",
              "          '<a target=\"_blank\" href=https://colab.research.google.com/notebooks/data_table.ipynb>data table notebook</a>'\n",
              "          + ' to learn more about interactive tables.';\n",
              "        element.innerHTML = '';\n",
              "        dataTable['output_type'] = 'display_data';\n",
              "        await google.colab.output.renderOutput(dataTable, element);\n",
              "        const docLink = document.createElement('div');\n",
              "        docLink.innerHTML = docLinkHtml;\n",
              "        element.appendChild(docLink);\n",
              "      }\n",
              "    </script>\n",
              "  </div>\n",
              "\n",
              "\n",
              "<div id=\"df-2e3c13a4-6df8-4fe3-a795-8e1cc790459a\">\n",
              "  <button class=\"colab-df-quickchart\" onclick=\"quickchart('df-2e3c13a4-6df8-4fe3-a795-8e1cc790459a')\"\n",
              "            title=\"Suggest charts\"\n",
              "            style=\"display:none;\">\n",
              "\n",
              "<svg xmlns=\"http://www.w3.org/2000/svg\" height=\"24px\"viewBox=\"0 0 24 24\"\n",
              "     width=\"24px\">\n",
              "    <g>\n",
              "        <path d=\"M19 3H5c-1.1 0-2 .9-2 2v14c0 1.1.9 2 2 2h14c1.1 0 2-.9 2-2V5c0-1.1-.9-2-2-2zM9 17H7v-7h2v7zm4 0h-2V7h2v10zm4 0h-2v-4h2v4z\"/>\n",
              "    </g>\n",
              "</svg>\n",
              "  </button>\n",
              "\n",
              "<style>\n",
              "  .colab-df-quickchart {\n",
              "      --bg-color: #E8F0FE;\n",
              "      --fill-color: #1967D2;\n",
              "      --hover-bg-color: #E2EBFA;\n",
              "      --hover-fill-color: #174EA6;\n",
              "      --disabled-fill-color: #AAA;\n",
              "      --disabled-bg-color: #DDD;\n",
              "  }\n",
              "\n",
              "  [theme=dark] .colab-df-quickchart {\n",
              "      --bg-color: #3B4455;\n",
              "      --fill-color: #D2E3FC;\n",
              "      --hover-bg-color: #434B5C;\n",
              "      --hover-fill-color: #FFFFFF;\n",
              "      --disabled-bg-color: #3B4455;\n",
              "      --disabled-fill-color: #666;\n",
              "  }\n",
              "\n",
              "  .colab-df-quickchart {\n",
              "    background-color: var(--bg-color);\n",
              "    border: none;\n",
              "    border-radius: 50%;\n",
              "    cursor: pointer;\n",
              "    display: none;\n",
              "    fill: var(--fill-color);\n",
              "    height: 32px;\n",
              "    padding: 0;\n",
              "    width: 32px;\n",
              "  }\n",
              "\n",
              "  .colab-df-quickchart:hover {\n",
              "    background-color: var(--hover-bg-color);\n",
              "    box-shadow: 0 1px 2px rgba(60, 64, 67, 0.3), 0 1px 3px 1px rgba(60, 64, 67, 0.15);\n",
              "    fill: var(--button-hover-fill-color);\n",
              "  }\n",
              "\n",
              "  .colab-df-quickchart-complete:disabled,\n",
              "  .colab-df-quickchart-complete:disabled:hover {\n",
              "    background-color: var(--disabled-bg-color);\n",
              "    fill: var(--disabled-fill-color);\n",
              "    box-shadow: none;\n",
              "  }\n",
              "\n",
              "  .colab-df-spinner {\n",
              "    border: 2px solid var(--fill-color);\n",
              "    border-color: transparent;\n",
              "    border-bottom-color: var(--fill-color);\n",
              "    animation:\n",
              "      spin 1s steps(1) infinite;\n",
              "  }\n",
              "\n",
              "  @keyframes spin {\n",
              "    0% {\n",
              "      border-color: transparent;\n",
              "      border-bottom-color: var(--fill-color);\n",
              "      border-left-color: var(--fill-color);\n",
              "    }\n",
              "    20% {\n",
              "      border-color: transparent;\n",
              "      border-left-color: var(--fill-color);\n",
              "      border-top-color: var(--fill-color);\n",
              "    }\n",
              "    30% {\n",
              "      border-color: transparent;\n",
              "      border-left-color: var(--fill-color);\n",
              "      border-top-color: var(--fill-color);\n",
              "      border-right-color: var(--fill-color);\n",
              "    }\n",
              "    40% {\n",
              "      border-color: transparent;\n",
              "      border-right-color: var(--fill-color);\n",
              "      border-top-color: var(--fill-color);\n",
              "    }\n",
              "    60% {\n",
              "      border-color: transparent;\n",
              "      border-right-color: var(--fill-color);\n",
              "    }\n",
              "    80% {\n",
              "      border-color: transparent;\n",
              "      border-right-color: var(--fill-color);\n",
              "      border-bottom-color: var(--fill-color);\n",
              "    }\n",
              "    90% {\n",
              "      border-color: transparent;\n",
              "      border-bottom-color: var(--fill-color);\n",
              "    }\n",
              "  }\n",
              "</style>\n",
              "\n",
              "  <script>\n",
              "    async function quickchart(key) {\n",
              "      const quickchartButtonEl =\n",
              "        document.querySelector('#' + key + ' button');\n",
              "      quickchartButtonEl.disabled = true;  // To prevent multiple clicks.\n",
              "      quickchartButtonEl.classList.add('colab-df-spinner');\n",
              "      try {\n",
              "        const charts = await google.colab.kernel.invokeFunction(\n",
              "            'suggestCharts', [key], {});\n",
              "      } catch (error) {\n",
              "        console.error('Error during call to suggestCharts:', error);\n",
              "      }\n",
              "      quickchartButtonEl.classList.remove('colab-df-spinner');\n",
              "      quickchartButtonEl.classList.add('colab-df-quickchart-complete');\n",
              "    }\n",
              "    (() => {\n",
              "      let quickchartButtonEl =\n",
              "        document.querySelector('#df-2e3c13a4-6df8-4fe3-a795-8e1cc790459a button');\n",
              "      quickchartButtonEl.style.display =\n",
              "        google.colab.kernel.accessAllowed ? 'block' : 'none';\n",
              "    })();\n",
              "  </script>\n",
              "</div>\n",
              "    </div>\n",
              "  </div>\n"
            ],
            "application/vnd.google.colaboratory.intrinsic+json": {
              "type": "dataframe",
              "variable_name": "positive_tweets",
              "repr_error": "0"
            }
          },
          "metadata": {},
          "execution_count": 23
        }
      ]
    },
    {
      "cell_type": "code",
      "source": [
        "tweet = positive_tweets.iloc[3]['OriginalTweet']\n",
        "\n",
        "tfidf = TfidfVectorizer(tokenizer=custom_tokenizer, stop_words='english')\n",
        "tfidf.fit(positive_tweets['OriginalTweet'].tolist())\n",
        "\n",
        "tweet_tfidf = tfidf.transform([tweet]).toarray()[0]\n",
        "indices = [i for i, x in enumerate(tweet_tfidf) if x > 0]\n",
        "\n",
        "values = tweet_tfidf[indices]\n",
        "max_index = indices[values.argmax()]\n",
        "most_important_token = tfidf.get_feature_names_out()[max_index]\n",
        "\n",
        "print(f\"Tweet: {tweet}\")\n",
        "print(f\"Most Important Token: {most_important_token}\")"
      ],
      "metadata": {
        "colab": {
          "base_uri": "https://localhost:8080/"
        },
        "id": "0he5ozSufkIi",
        "outputId": "35d0d18a-0b4f-4c23-ef9d-7a369f126990"
      },
      "execution_count": 24,
      "outputs": [
        {
          "output_type": "stream",
          "name": "stdout",
          "text": [
            "Tweet: Let s just take a minute to say THANK YOU also to the amazing postal workers So many real people behind a click of online shopping and getting cards delivered Thank   you   19\n",
            "Most Important Token: thank\n"
          ]
        },
        {
          "output_type": "stream",
          "name": "stderr",
          "text": [
            "/usr/local/lib/python3.10/dist-packages/sklearn/feature_extraction/text.py:528: UserWarning: The parameter 'token_pattern' will not be used since 'tokenizer' is not None'\n",
            "  warnings.warn(\n"
          ]
        }
      ]
    },
    {
      "cell_type": "markdown",
      "source": [
        "В этом примере писатель благодарит работников почты за работу во время ковида. TfidfVectorizer как наиболее важный токен выделил слово thank, что на самом деле очень хорошо для оценки окраски, вряд ли в твите с благодарением кого-либо будет негатив, только если в саракстической форме, но тут такого нет."
      ],
      "metadata": {
        "id": "Nrzyyo7ajJ9R"
      }
    },
    {
      "cell_type": "markdown",
      "source": [
        "**Задание 4 Обучение первых моделей (1 балл)**"
      ],
      "metadata": {
        "id": "MQrbxda7j5r1"
      }
    },
    {
      "cell_type": "markdown",
      "source": [
        "\n",
        "Примените оба векторайзера для получения матриц с признаками текстов. Выделите целевую переменную."
      ],
      "metadata": {
        "id": "erg_2QVgkiGE"
      }
    },
    {
      "cell_type": "code",
      "source": [
        "cv = CountVectorizer(tokenizer=custom_tokenizer)\n",
        "tfidf = TfidfVectorizer(tokenizer=custom_tokenizer)\n",
        "\n",
        "train_texts = train['OriginalTweet'].values\n",
        "train_labels = train['Sentiment'].values\n",
        "test_texts = test['OriginalTweet'].values\n",
        "test_labels = test['Sentiment'].values\n",
        "\n",
        "train_counts = cv.fit_transform(train_texts)\n",
        "test_counts = cv.transform(test_texts)\n",
        "\n",
        "train_tfidf = tfidf.fit_transform(train_texts)\n",
        "test_tfidf = tfidf.transform(test_texts)"
      ],
      "metadata": {
        "id": "zDLOlTGgkkDU"
      },
      "execution_count": 25,
      "outputs": []
    },
    {
      "cell_type": "markdown",
      "source": [
        "Обучите логистическую регрессию на векторах из обоих векторайзеров. Посчитайте долю правильных ответов на обучающих и тестовых данных. Какой векторайзер показал лучший результат? Что можно сказать о моделях?"
      ],
      "metadata": {
        "id": "YqOwPrXul6SR"
      }
    },
    {
      "cell_type": "code",
      "source": [
        "from sklearn.linear_model import LogisticRegression\n",
        "from sklearn.metrics import accuracy_score\n",
        "\n",
        "cv_model = LogisticRegression(max_iter=200)\n",
        "cv_model.fit(train_counts, train_labels)\n",
        "\n",
        "tfidf_model = LogisticRegression(max_iter=200)\n",
        "tfidf_model.fit(train_tfidf, train_labels)\n",
        "\n",
        "train_pred_cv = cv_model.predict(train_counts)\n",
        "test_pred_cv = cv_model.predict(test_counts)\n",
        "\n",
        "train_pred_tfidf = tfidf_model.predict(train_tfidf)\n",
        "test_pred_tfidf = tfidf_model.predict(test_tfidf)\n",
        "\n",
        "train_acc_cv = accuracy_score(train_labels, train_pred_cv)\n",
        "test_acc_cv = accuracy_score(test_labels, test_pred_cv)\n",
        "\n",
        "train_acc_tfidf = accuracy_score(train_labels, train_pred_tfidf)\n",
        "test_acc_tfidf = accuracy_score(test_labels, test_pred_tfidf)\n",
        "\n",
        "(train_acc_cv, test_acc_cv), (train_acc_tfidf, test_acc_tfidf)"
      ],
      "metadata": {
        "id": "bwGqIp08aTUT",
        "colab": {
          "base_uri": "https://localhost:8080/"
        },
        "outputId": "324580d1-4cfb-4763-f0d2-b5990c458787"
      },
      "execution_count": 26,
      "outputs": [
        {
          "output_type": "execute_result",
          "data": {
            "text/plain": [
              "((0.9841093549765058, 0.8663543950568069),\n",
              " (0.9256727894062367, 0.8535977675901933))"
            ]
          },
          "metadata": {},
          "execution_count": 26
        }
      ]
    },
    {
      "cell_type": "markdown",
      "source": [
        "В конкретно данном случае лучше себя показал CountVectorizer. Больше всего разница видна на train, но так или иначе, обе модели показывают хороший результат."
      ],
      "metadata": {
        "id": "x9Dc-XHWdYzf"
      }
    },
    {
      "cell_type": "markdown",
      "source": [
        "**Задание 5 Стемминг (0.5 балла)**\n",
        "Для уменьшения словаря можно использовать стемминг.\n",
        "\n",
        "Модифицируйте написанный токенайзер, добавив в него стемминг с использованием SnowballStemmer. Обучите Count- и Tfidf- векторайзеры. Как изменился размер словаря?"
      ],
      "metadata": {
        "id": "XZd-lsegcN67"
      }
    },
    {
      "cell_type": "code",
      "source": [
        "from nltk.stem.snowball import SnowballStemmer\n",
        "import string\n",
        "\n",
        "def custom_stem_tokenizer(text):\n",
        "    text = text.lower()\n",
        "    tknzr = TweetTokenizer()\n",
        "    stemmer = SnowballStemmer(\"english\")\n",
        "    tokens = tknzr.tokenize(text)\n",
        "    stop_words = set(stopwords.words('english'))\n",
        "    punctuation_set = set(string.punctuation)\n",
        "    tokens = [\n",
        "        stemmer.stem(token) for token in tokens if token not in stop_words and\n",
        "        token not in punctuation_set and\n",
        "        len(token) > 1 and\n",
        "        all(ord(char) < 128 for char in token) and\n",
        "        not token.startswith('https://t.co')\n",
        "    ]\n",
        "    return tokens\n",
        "\n",
        "test_text = 'This is sample text!!!! @Sample_text I, \\x92\\x92 https://t.co/sample  #sampletext adding more words to check stemming'\n",
        "custom_stem_tokenizer(test_text)"
      ],
      "metadata": {
        "colab": {
          "base_uri": "https://localhost:8080/"
        },
        "id": "L1qtfFJwcgNS",
        "outputId": "27079a3a-48c8-463a-e0c5-a73bc744163b"
      },
      "execution_count": 28,
      "outputs": [
        {
          "output_type": "execute_result",
          "data": {
            "text/plain": [
              "['sampl', 'text', '@sample_text', '#sampletext', 'ad', 'word', 'check', 'stem']"
            ]
          },
          "metadata": {},
          "execution_count": 28
        }
      ]
    },
    {
      "cell_type": "code",
      "source": [
        "cv = CountVectorizer(tokenizer=custom_stem_tokenizer)\n",
        "cv.fit(X_train)\n",
        "\n",
        "tfidf = TfidfVectorizer(tokenizer=custom_stem_tokenizer)\n",
        "tfidf.fit(X_train)\n",
        "\n",
        "len(cv.vocabulary_), len(tfidf.vocabulary_)"
      ],
      "metadata": {
        "colab": {
          "base_uri": "https://localhost:8080/"
        },
        "id": "SwXeeo3ac2d2",
        "outputId": "5968bd12-79e8-4174-deb0-a71cc726783f"
      },
      "execution_count": 29,
      "outputs": [
        {
          "output_type": "stream",
          "name": "stderr",
          "text": [
            "/usr/local/lib/python3.10/dist-packages/sklearn/feature_extraction/text.py:528: UserWarning: The parameter 'token_pattern' will not be used since 'tokenizer' is not None'\n",
            "  warnings.warn(\n"
          ]
        },
        {
          "output_type": "execute_result",
          "data": {
            "text/plain": [
              "(35451, 35451)"
            ]
          },
          "metadata": {},
          "execution_count": 29
        }
      ]
    },
    {
      "cell_type": "markdown",
      "source": [
        "Обучите логистическую регрессию с использованием обоих векторайзеров. Изменилось ли качество? Есть ли смысл применять стемминг?"
      ],
      "metadata": {
        "id": "bdBp_alQiXCF"
      }
    },
    {
      "cell_type": "code",
      "source": [
        "X_train_cv = cv.transform(X_train)\n",
        "X_test_cv = cv.transform(X_test)\n",
        "\n",
        "X_train_tfidf = tfidf.transform(X_train)\n",
        "X_test_tfidf = tfidf.transform(X_test)\n",
        "\n",
        "lr_cv = LogisticRegression(max_iter=200)\n",
        "lr_cv.fit(X_train_cv, y_train)\n",
        "\n",
        "lr_tfidf = LogisticRegression(max_iter=200)\n",
        "lr_tfidf.fit(X_train_tfidf, y_train)\n",
        "\n",
        "y_pred_cv = lr_cv.predict(X_test_cv)\n",
        "y_pred_cv_train = lr_cv.predict(X_train_cv)\n",
        "\n",
        "y_pred_tfidf = lr_tfidf.predict(X_test_tfidf)\n",
        "y_pred_tfidf_train = lr_tfidf.predict(X_train_tfidf)\n",
        "\n",
        "acc_cv_test = accuracy_score(y_test, y_pred_cv)\n",
        "acc_cv_train = accuracy_score(y_train, y_pred_cv_train)\n",
        "\n",
        "acc_tfidf_test = accuracy_score(y_test, y_pred_tfidf)\n",
        "acc_tfidf_train = accuracy_score(y_train, y_pred_tfidf_train)\n",
        "\n",
        "(acc_cv_train, acc_cv_test), (acc_tfidf_train, acc_tfidf_test)"
      ],
      "metadata": {
        "colab": {
          "base_uri": "https://localhost:8080/"
        },
        "id": "tsnNKisRiXf5",
        "outputId": "e1ee400f-0673-4ab2-b30c-c62bf3e60b98"
      },
      "execution_count": null,
      "outputs": [
        {
          "output_type": "execute_result",
          "data": {
            "text/plain": [
              "((0.9705254164886801, 0.8668527008172214),\n",
              " (0.9154634771465185, 0.8549930237193542))"
            ]
          },
          "metadata": {},
          "execution_count": 56
        }
      ]
    },
    {
      "cell_type": "markdown",
      "source": [
        "Теперь сравним.\n",
        "\n",
        "  Без стемминга:\n",
        "  ((0.9841093549765058, 0.8663543950568069),\n",
        "\n",
        "  (0.9256727894062367, 0.8535977675901933))\n",
        "\n",
        "  С стемингом:\n",
        "  ((0.9705254164886801, 0.8668527008172214),\n",
        "\n",
        "  (0.9154634771465185, 0.8549930237193542))\n",
        "\n",
        "На train видим незначительное ухудшение, зато на test улучшение, но тоже маленькое. Особого смысла его применять в данном случае нет, улучшения минимальный."
      ],
      "metadata": {
        "id": "Y3Pp-iWknXGd"
      }
    },
    {
      "cell_type": "markdown",
      "source": [
        "**Задание 6 Работа с частотами (1.5 балла)**\n",
        "\n",
        "Еще один способ уменьшить количество признаков - это использовать параметры min_df и max_df при построении векторайзера эти параметры помогают ограничить требуемую частоту встречаемости токена в документах.\n",
        "\n",
        "По умолчанию берутся все токены, которые встретились хотя бы один раз.\n",
        "\n",
        "Подберите max_df такой, что размер словаря будет 36651 (на 1 меньше, чем было). Почему параметр получился такой большой/маленький?"
      ],
      "metadata": {
        "id": "nfpySYT9n7K8"
      }
    },
    {
      "cell_type": "code",
      "source": [
        "max_df = 0.98\n",
        "st = -0.01\n",
        "while True:\n",
        "    cv_df = CountVectorizer(tokenizer=custom_stem_tokenizer,\n",
        "                            max_df=max_df).fit(X_train)\n",
        "    if len(cv_df.vocabulary_) <= 35450:\n",
        "        break\n",
        "    max_df += st\n",
        "    print(max_df)\n",
        "\n",
        "len(cv_df.vocabulary_), max_df"
      ],
      "metadata": {
        "colab": {
          "base_uri": "https://localhost:8080/"
        },
        "id": "aSzVrt2jn-N6",
        "outputId": "e39149a3-cd44-4146-f151-051131054526"
      },
      "execution_count": 32,
      "outputs": [
        {
          "output_type": "stream",
          "name": "stdout",
          "text": [
            "0.97\n",
            "0.96\n",
            "0.95\n",
            "0.94\n",
            "0.9299999999999999\n",
            "0.9199999999999999\n",
            "0.9099999999999999\n",
            "0.8999999999999999\n",
            "0.8899999999999999\n",
            "0.8799999999999999\n",
            "0.8699999999999999\n",
            "0.8599999999999999\n",
            "0.8499999999999999\n",
            "0.8399999999999999\n",
            "0.8299999999999998\n",
            "0.8199999999999998\n",
            "0.8099999999999998\n",
            "0.7999999999999998\n",
            "0.7899999999999998\n",
            "0.7799999999999998\n",
            "0.7699999999999998\n",
            "0.7599999999999998\n",
            "0.7499999999999998\n",
            "0.7399999999999998\n",
            "0.7299999999999998\n",
            "0.7199999999999998\n",
            "0.7099999999999997\n",
            "0.6999999999999997\n",
            "0.6899999999999997\n",
            "0.6799999999999997\n",
            "0.6699999999999997\n",
            "0.6599999999999997\n",
            "0.6499999999999997\n",
            "0.6399999999999997\n",
            "0.6299999999999997\n",
            "0.6199999999999997\n",
            "0.6099999999999997\n",
            "0.5999999999999996\n",
            "0.5899999999999996\n",
            "0.5799999999999996\n",
            "0.5699999999999996\n",
            "0.5599999999999996\n",
            "0.5499999999999996\n",
            "0.5399999999999996\n",
            "0.5299999999999996\n",
            "0.5199999999999996\n",
            "0.5099999999999996\n",
            "0.49999999999999956\n",
            "0.48999999999999955\n",
            "0.47999999999999954\n",
            "0.46999999999999953\n",
            "0.4599999999999995\n",
            "0.4499999999999995\n",
            "0.4399999999999995\n",
            "0.4299999999999995\n",
            "0.4199999999999995\n",
            "0.4099999999999995\n",
            "0.39999999999999947\n",
            "0.38999999999999946\n",
            "0.37999999999999945\n",
            "0.36999999999999944\n"
          ]
        },
        {
          "output_type": "execute_result",
          "data": {
            "text/plain": [
              "(35450, 0.36999999999999944)"
            ]
          },
          "metadata": {},
          "execution_count": 32
        }
      ]
    },
    {
      "cell_type": "markdown",
      "source": [
        "Объем словаря получается 35450, при попытках найстройки вручную особого результата нет. Предпологаю, что для получения нужного результата необходим автомотизированный подбор шага, например с помощью бинарного поиска.\n",
        "\n",
        "max_df по итогу получился 0.37, значит, что каждое слово, которое встречается в датасете текстов с вероятностью более 37%, будет исключено. В целом коэф. получился стандартным, не наблюдаю крупных перекосов."
      ],
      "metadata": {
        "id": "ERn3Ivy38AaD"
      }
    },
    {
      "cell_type": "markdown",
      "source": [
        "Подберите min_df (используйте дефолтное значение max_df) в CountVectorizer таким образом, чтобы размер словаря был 3700 токенов (при использовании токенайзера со стеммингом), а качество осталось таким же, как и было. Что можно сказать о результатах?"
      ],
      "metadata": {
        "id": "_4t3oAs15RFv"
      }
    },
    {
      "cell_type": "code",
      "source": [
        "min_df = 0.0005\n",
        "st = -0.00005\n",
        "\n",
        "while True:\n",
        "    cv_df = CountVectorizer(tokenizer=custom_stem_tokenizer,\n",
        "                            min_df=min_df).fit(X_train)\n",
        "    print(min_df, len(cv_df.vocabulary_))\n",
        "    if len(cv_df.vocabulary_) > 3699:\n",
        "        break\n",
        "    min_df += st\n",
        "\n",
        "len(cv_df.vocabulary_), min_df"
      ],
      "metadata": {
        "colab": {
          "base_uri": "https://localhost:8080/"
        },
        "id": "YGfTWbUt5Vlw",
        "outputId": "e9cd43a0-61d3-4d55-f4b0-c57aaa18a0ca"
      },
      "execution_count": 36,
      "outputs": [
        {
          "output_type": "stream",
          "name": "stdout",
          "text": [
            "0.0005 3421\n",
            "0.00045 3629\n",
            "0.00039999999999999996 3859\n"
          ]
        },
        {
          "output_type": "execute_result",
          "data": {
            "text/plain": [
              "(3859, 0.00039999999999999996)"
            ]
          },
          "metadata": {},
          "execution_count": 36
        }
      ]
    },
    {
      "cell_type": "markdown",
      "source": [
        "Получили результат 3859 - размер словаря, 0.0004 порог встречаемости слова, чтобы добавить его в словарь. Глобально мало что удалось поменять, мы исключили очень малую часть. Возможно как и в прошлом задании необходимо точечная автомотическая настройка шага."
      ],
      "metadata": {
        "id": "C5bBO8Dbn-sW"
      }
    },
    {
      "cell_type": "markdown",
      "source": [
        "В предыдущих заданиях признаки не скалировались. Отскалируйте данные (при словаре размера 3.7 тысяч, векторизованные CountVectorizer), обучите логистическую регрессию, посмотрите качество и выведите berplot содержащий по 10 токенов, с наибольшим по модулю положительными/отрицательными весами. Что можно сказать об этих токенах?"
      ],
      "metadata": {
        "id": "hNFNg21N7_lC"
      }
    },
    {
      "cell_type": "code",
      "source": [
        "from sklearn.pipeline import make_pipeline\n",
        "from sklearn.preprocessing import StandardScaler\n",
        "import seaborn as sns\n",
        "import matplotlib.pyplot as plt\n",
        "\n",
        "cv_min= CountVectorizer(tokenizer=custom_stem_tokenizer, min_df=0.00039).fit(X_train)\n",
        "train_cv_min = cv_min.transform(X_train)\n",
        "test_cv_min = cv_min.transform(X_test)\n",
        "\n",
        "pl = make_pipeline(StandardScaler(with_mean=False), LogisticRegression(max_iter=200))\n",
        "pl.fit(train_cv_min, y_train)\n",
        "\n",
        "y_train_pred_scaled = pl.predict(train_cv_min)\n",
        "y_test_pred_scaled = pl.predict(test_cv_min)\n",
        "train_accuracy = accuracy_score(y_train, y_train_pred_scaled)\n",
        "test_accuracy = accuracy_score(y_test, y_test_pred_scaled)\n",
        "\n",
        "weights = pl.named_steps['logisticregression'].coef_[0]\n",
        "positive_tokens = [token for token, weight in sorted(zip(cv_min.get_feature_names_out(), weights), key=lambda x: x[1], reverse=True)[:10]]\n",
        "negative_tokens = [token for token, weight in sorted(zip(cv_min.get_feature_names_out(), weights), key=lambda x: x[1])[:10]]\n",
        "\n",
        "fig, ax = plt.subplots(figsize=(12, 8))\n",
        "sns.barplot(x=[weight for token, weight in sorted(zip(cv_min.get_feature_names_out(), weights), key=lambda x: x[1], reverse=True)[:10] + sorted(zip(cv_min.get_feature_names_out(), weights), key=lambda x: x[1])[:10]],\n",
        "            y=[token for token, weight in sorted(zip(cv_min.get_feature_names_out(), weights), key=lambda x: x[1], reverse=True)[:10] + sorted(zip(cv_min.get_feature_names_out(), weights), key=lambda x: x[1])[:10]], orient='h')\n",
        "ax.set_title('Топ 10 токенов с наибольшим весом')\n",
        "ax.set_xlabel('Веса')\n",
        "ax.set_ylabel('Токены')\n",
        "plt.show()\n",
        "\n",
        "train_accuracy, test_accuracy, positive_tokens, negative_tokens"
      ],
      "metadata": {
        "colab": {
          "base_uri": "https://localhost:8080/",
          "height": 1000
        },
        "id": "WB1xS_m2ncqn",
        "outputId": "9e8f51b3-1293-4f1d-cffa-d015b72fb489"
      },
      "execution_count": 39,
      "outputs": [
        {
          "output_type": "stream",
          "name": "stderr",
          "text": [
            "/usr/local/lib/python3.10/dist-packages/sklearn/feature_extraction/text.py:528: UserWarning: The parameter 'token_pattern' will not be used since 'tokenizer' is not None'\n",
            "  warnings.warn(\n",
            "/usr/local/lib/python3.10/dist-packages/sklearn/linear_model/_logistic.py:458: ConvergenceWarning: lbfgs failed to converge (status=1):\n",
            "STOP: TOTAL NO. of ITERATIONS REACHED LIMIT.\n",
            "\n",
            "Increase the number of iterations (max_iter) or scale the data as shown in:\n",
            "    https://scikit-learn.org/stable/modules/preprocessing.html\n",
            "Please also refer to the documentation for alternative solver options:\n",
            "    https://scikit-learn.org/stable/modules/linear_model.html#logistic-regression\n",
            "  n_iter_i = _check_optimize_result(\n"
          ]
        },
        {
          "output_type": "display_data",
          "data": {
            "text/plain": [
              "<Figure size 1200x800 with 1 Axes>"
            ],
            "image/png": "[encoded data removed]"
          },
          "metadata": {}
        },
        {
          "output_type": "execute_result",
          "data": {
            "text/plain": [
              "(0.9449807774455361,\n",
              " 0.846820809248555,\n",
              " ['hand',\n",
              "  'free',\n",
              "  'help',\n",
              "  'thank',\n",
              "  'like',\n",
              "  'best',\n",
              "  'pleas',\n",
              "  'great',\n",
              "  'safe',\n",
              "  'support'],\n",
              " ['crisi',\n",
              "  'panic',\n",
              "  'scam',\n",
              "  'kill',\n",
              "  'frighten',\n",
              "  'fear',\n",
              "  'stop',\n",
              "  'crude',\n",
              "  'fight',\n",
              "  'die'])"
            ]
          },
          "metadata": {},
          "execution_count": 39
        }
      ]
    },
    {
      "cell_type": "markdown",
      "source": [
        "В полученном списке позитивных токенов слова по типу help, great, safe, support, значит мы сделали все верно, данные слова действительно эмоцинольно - положительные.\n",
        "\n",
        "В негативных слова по типу crisi, panic, kill, fear. Тут тоже все правильно, слова действительно с негативчиком."
      ],
      "metadata": {
        "id": "oE_pX_3isCah"
      }
    },
    {
      "cell_type": "markdown",
      "source": [
        "**Задание 7 Другие признаки (1.5 балла)**\n",
        "\n",
        "Мы были сконцентрированы на работе с текстами твиттов и не использовали другие признаки - имена пользователя, дату и местоположение\n",
        "\n",
        "Изучите признаки UserName и ScreenName. полезны ли они? Если полезны, то закодируйте их, добавьте к матрице с отскалированными признаками, обучите логистическую регрессию, замерьте качество."
      ],
      "metadata": {
        "id": "IwJ5EP7fstfX"
      }
    },
    {
      "cell_type": "code",
      "source": [
        "from scipy.sparse import hstack\n",
        "from sklearn.feature_extraction import FeatureHasher\n",
        "from sklearn.preprocessing import MaxAbsScaler\n",
        "\n",
        "hasher = FeatureHasher(n_features=20, input_type='string')\n",
        "\n",
        "X_train, X_test, y_train, y_test = train_test_split(df['OriginalTweet'], df['Sentiment'], test_size=0.3, random_state=52)\n",
        "\n",
        "cv = CountVectorizer(min_df=0.00039, max_df = 0.369)\n",
        "X_train_text = cv.fit_transform(X_train)\n",
        "X_test_text = cv.transform(X_test)\n",
        "\n",
        "X_train_user = hasher.transform(df.loc[X_train.index, 'UserName'].apply(lambda x: [str(x)]))\n",
        "X_test_user = hasher.transform(df.loc[X_test.index, 'UserName'].apply(lambda x: [str(x)]))\n",
        "X_train_screen = hasher.transform(df.loc[X_train.index, 'ScreenName'].apply(lambda x: [str(x)]))\n",
        "X_test_screen = hasher.transform(df.loc[X_test.index, 'ScreenName'].apply(lambda x: [str(x)]))\n",
        "\n",
        "X_train = hstack([X_train_text, X_train_user, X_train_screen])\n",
        "X_test = hstack([X_test_text, X_test_user, X_test_screen])\n",
        "\n",
        "scaler = MaxAbsScaler()\n",
        "X_train_scaled = scaler.fit_transform(X_train)\n",
        "X_test_scaled = scaler.transform(X_test)\n",
        "\n",
        "model = LogisticRegression(max_iter=200)\n",
        "model.fit(X_train_scaled, y_train)\n",
        "\n",
        "train_pred = model.predict(X_train_scaled)\n",
        "y_pred = model.predict(X_test_scaled)\n",
        "accuracy_test = accuracy_score(y_test, y_pred)\n",
        "accuracy_train = accuracy_score(y_train, train_pred)\n",
        "print(\"Точность с дополнительными признаками:\", accuracy_train, accuracy_test)"
      ],
      "metadata": {
        "colab": {
          "base_uri": "https://localhost:8080/"
        },
        "id": "150sPHnMtLzy",
        "outputId": "c9203752-a05c-4376-be4d-d0c470a8c5be"
      },
      "execution_count": 55,
      "outputs": [
        {
          "output_type": "stream",
          "name": "stdout",
          "text": [
            "Точность с дополнительными признаками: 0.9351131994873986 0.8630655770380705\n"
          ]
        }
      ]
    },
    {
      "cell_type": "markdown",
      "source": [
        "По результатам видим, что глобальных улучшении в точности нет. На предыдущих шагах были модели поточнее."
      ],
      "metadata": {
        "id": "bGWgTWNDu7Mf"
      }
    },
    {
      "cell_type": "markdown",
      "source": [
        "Изучите признак TweetAt в обучающей выборке: преобразуйте его к типу datetime и нарисуйте его гистограмму с разделением по цвету на оспнове целевой переменной. Полезен ли он? Если полезен, то закодируйте его, добавьте к матрице с отскалированными признаками, обучите логистическую регрессию, замерьте качество."
      ],
      "metadata": {
        "id": "6uY3Il8Vv1w1"
      }
    },
    {
      "cell_type": "code",
      "source": [
        "df['TweetAt'] = pd.to_datetime(df['TweetAt'])\n",
        "\n",
        "plt.figure(figsize=(12, 8))\n",
        "sns.histplot(data=df, x='TweetAt', hue='Sentiment', element='step', palette='viridis', bins=30)\n",
        "plt.title('Распределение твитов по датам')\n",
        "plt.xlabel('Дата')\n",
        "plt.ylabel('Количество твитов')\n",
        "plt.xticks(rotation=45)\n",
        "plt.tight_layout()\n",
        "plt.show()"
      ],
      "metadata": {
        "colab": {
          "base_uri": "https://localhost:8080/",
          "height": 807
        },
        "id": "_RI3nrVUv7nD",
        "outputId": "e0a8b2b1-a0a6-478c-d4f9-ca6e15e0955f"
      },
      "execution_count": 57,
      "outputs": [
        {
          "output_type": "display_data",
          "data": {
            "text/plain": [
              "<Figure size 1200x800 with 1 Axes>"
            ],
            "image/png": "[encoded data removed]"
          },
          "metadata": {}
        }
      ]
    },
    {
      "cell_type": "code",
      "source": [
        "df['day_of_week'] = df['TweetAt'].dt.dayofweek\n",
        "df['hour'] = df['TweetAt'].dt.hour\n",
        "\n",
        "X_train, X_test, y_train, y_test = train_test_split(df[['OriginalTweet', 'day_of_week', 'hour']], df['Sentiment'], test_size=0.3, random_state=52)\n",
        "\n",
        "cv = CountVectorizer(min_df=0.00039, max_df = 0.369)\n",
        "X_train_text = cv.fit_transform(X_train['OriginalTweet'])\n",
        "X_test_text = cv.transform(X_test['OriginalTweet'])\n",
        "\n",
        "scaler = StandardScaler(with_mean=False)\n",
        "X_train_temporal = scaler.fit_transform(X_train[['day_of_week', 'hour']])\n",
        "X_test_temporal = scaler.transform(X_test[['day_of_week', 'hour']])\n",
        "\n",
        "X_train = hstack([X_train_text, X_train_temporal])\n",
        "X_test = hstack([X_test_text, X_test_temporal])\n",
        "\n",
        "model = LogisticRegression(max_iter=500)\n",
        "model.fit(X_train, y_train)\n",
        "\n",
        "\n",
        "train_pred = model.predict(X_train)\n",
        "y_pred = model.predict(X_test)\n",
        "accuracy_test = accuracy_score(y_test, y_pred)\n",
        "accuracy_train = accuracy_score(y_train, train_pred)\n",
        "print(\"Точность модели с признаками даты и времени:\", accuracy_train, accuracy_test)"
      ],
      "metadata": {
        "colab": {
          "base_uri": "https://localhost:8080/"
        },
        "id": "tAe1UQrtwX6P",
        "outputId": "15ea39d0-3475-45ec-ebf5-1e319ca7cd1d"
      },
      "execution_count": 62,
      "outputs": [
        {
          "output_type": "stream",
          "name": "stdout",
          "text": [
            "Точность модели с признаками даты и времени: 0.9460059803502776 0.8712377915088698\n"
          ]
        }
      ]
    },
    {
      "cell_type": "markdown",
      "source": [
        "Видим небольшое улучшение по сравнению с предыдущей моделью, полезность есть, но незначительная."
      ],
      "metadata": {
        "id": "JTbpeJU_xj6L"
      }
    },
    {
      "cell_type": "markdown",
      "source": [
        "Поработайте с признаком Location в обучающей выборке. Сколько уникальных значений?"
      ],
      "metadata": {
        "id": "z_v_IwUvxz1N"
      }
    },
    {
      "cell_type": "code",
      "source": [
        "locations = df['Location'].nunique()\n",
        "print(\"Количество уникальных значений в столбце 'Location':\", locations)"
      ],
      "metadata": {
        "colab": {
          "base_uri": "https://localhost:8080/"
        },
        "id": "4icdlrS0x2ri",
        "outputId": "1d6e06b4-c7d7-4fdc-d89a-812910f3959a"
      },
      "execution_count": 64,
      "outputs": [
        {
          "output_type": "stream",
          "name": "stdout",
          "text": [
            "Количество уникальных значений в столбце 'Location': 10465\n"
          ]
        }
      ]
    },
    {
      "cell_type": "markdown",
      "source": [
        "Постройте гистограмму топ-10 по популярности местоположений (исключая Unknown)"
      ],
      "metadata": {
        "id": "a6V4dOjFyJ55"
      }
    },
    {
      "cell_type": "code",
      "source": [
        "filtered_df = df[df['Location'] != 'Unknown']\n",
        "\n",
        "location_counts = filtered_df['Location'].value_counts().head(10)\n",
        "\n",
        "plt.figure(figsize=(12, 8))\n",
        "sns.barplot(x=location_counts.values, y=location_counts.index)\n",
        "plt.title('Топ-10 наиболее популярных местоположений')\n",
        "plt.xlabel('Количество твитов')\n",
        "plt.ylabel('Местоположение')\n",
        "plt.show()"
      ],
      "metadata": {
        "colab": {
          "base_uri": "https://localhost:8080/",
          "height": 718
        },
        "id": "Gfj1mqjQyLY9",
        "outputId": "c29a6e15-440d-495d-a59c-3f01a0491dc1"
      },
      "execution_count": 66,
      "outputs": [
        {
          "output_type": "display_data",
          "data": {
            "text/plain": [
              "<Figure size 1200x800 with 1 Axes>"
            ],
            "image/png": "[encoded data removed]"
          },
          "metadata": {}
        }
      ]
    },
    {
      "cell_type": "markdown",
      "source": [
        "Видно, что многие местоположения включают в себя более точное название места, чем другие (Например, у некоторых стоит London, UK; а у некоторых просто UK или United Kingdom).\n",
        "\n",
        "Создайте новый признак WiderLocation, который содержит самое широкое местоположение (например, из London, UK должно получиться UK). Сколько уникальных категорий теперь? Постройте аналогичную гистограмму."
      ],
      "metadata": {
        "id": "Ocwgz5LByg-W"
      }
    },
    {
      "cell_type": "code",
      "source": [
        "def wider_location(location):\n",
        "    parts = location.split(',')\n",
        "    if len(parts) > 1:\n",
        "        return parts[-1].strip()\n",
        "    return location.strip()\n",
        "\n",
        "filtered_df['WiderLocation'] = filtered_df['Location'].apply(wider_location)\n",
        "\n",
        "location = {\n",
        "    'USA': 'United States',\n",
        "    'United States': 'United States',\n",
        "    'NY': 'United States',\n",
        "    'CA': 'United States',\n",
        "    'England': 'United Kingdom',\n",
        "    'London': 'United Kingdom',\n",
        "    'UK': 'United Kingdom',\n",
        "    'United Kingdom': 'United Kingdom'\n",
        "}\n",
        "filtered_df['StandardizedLocation'] = filtered_df['WiderLocation'].replace(location)\n",
        "unique_standardized_locations = filtered_df['StandardizedLocation'].nunique()\n",
        "print(\"Количество уникальных 'широких' местоположений:\", wider_locations)\n",
        "\n",
        "standardized_location_counts = filtered_df['StandardizedLocation'].value_counts().head(10)\n",
        "\n",
        "plt.figure(figsize=(12, 8))\n",
        "sns.barplot(x=standardized_location_counts.values, y=standardized_location_counts.index)\n",
        "plt.title('Топ-10 наиболее популярных стандартизированных местоположений')\n",
        "plt.xlabel('Количество твитов')\n",
        "plt.ylabel('Местоположение')\n",
        "plt.show()"
      ],
      "metadata": {
        "colab": {
          "base_uri": "https://localhost:8080/",
          "height": 944
        },
        "id": "aDNsVwYpyiAn",
        "outputId": "f3023e8c-22a5-4096-deb4-afdd501974b4"
      },
      "execution_count": 73,
      "outputs": [
        {
          "output_type": "stream",
          "name": "stderr",
          "text": [
            "<ipython-input-73-d6f1bea45d00>:7: SettingWithCopyWarning: \n",
            "A value is trying to be set on a copy of a slice from a DataFrame.\n",
            "Try using .loc[row_indexer,col_indexer] = value instead\n",
            "\n",
            "See the caveats in the documentation: https://pandas.pydata.org/pandas-docs/stable/user_guide/indexing.html#returning-a-view-versus-a-copy\n",
            "  filtered_df['WiderLocation'] = filtered_df['Location'].apply(wider_location)\n",
            "<ipython-input-73-d6f1bea45d00>:19: SettingWithCopyWarning: \n",
            "A value is trying to be set on a copy of a slice from a DataFrame.\n",
            "Try using .loc[row_indexer,col_indexer] = value instead\n",
            "\n",
            "See the caveats in the documentation: https://pandas.pydata.org/pandas-docs/stable/user_guide/indexing.html#returning-a-view-versus-a-copy\n",
            "  filtered_df['StandardizedLocation'] = filtered_df['WiderLocation'].replace(location)\n"
          ]
        },
        {
          "output_type": "stream",
          "name": "stdout",
          "text": [
            "Количество уникальных 'широких' местоположений: 6117\n"
          ]
        },
        {
          "output_type": "display_data",
          "data": {
            "text/plain": [
              "<Figure size 1200x800 with 1 Axes>"
            ],
            "image/png": "[encoded data removed]"
          },
          "metadata": {}
        }
      ]
    },
    {
      "cell_type": "markdown",
      "source": [
        "Теперь гораздо лучше, видим что подавляющее большинство твитов с Англии и Америки."
      ],
      "metadata": {
        "id": "T_8UvN2YzI7v"
      }
    },
    {
      "cell_type": "markdown",
      "source": [
        "Закодируйте признак WiderLocation с помощью OHE таким образом, чтобы создались только столбцы для местоположений, которые встречаются более одного раза. Сколько таких значений?"
      ],
      "metadata": {
        "id": "sfrxKQFL053Q"
      }
    },
    {
      "cell_type": "code",
      "source": [
        "from sklearn.preprocessing import OneHotEncoder\n",
        "\n",
        "location_counts = filtered_df['StandardizedLocation'].value_counts()\n",
        "locations_more_than_once = location_counts[location_counts > 1].index\n",
        "filtered_df = filtered_df[filtered_df['StandardizedLocation'].isin(locations_more_than_once)]\n",
        "\n",
        "encoder = OneHotEncoder(sparse=False)\n",
        "encoded_locations = encoder.fit_transform(filtered_df[['StandardizedLocation']])\n",
        "\n",
        "encoded_df = pd.DataFrame(encoded_locations, columns=encoder.get_feature_names_out())\n",
        "\n",
        "print(\"Количество столбцов для местоположений, которые встречаются более одного раза:\", encoded_df.shape[1])"
      ],
      "metadata": {
        "colab": {
          "base_uri": "https://localhost:8080/"
        },
        "id": "Pt-_REoh0589",
        "outputId": "2c20f659-0ec3-4fce-dee3-807095e0a1d4"
      },
      "execution_count": 78,
      "outputs": [
        {
          "output_type": "stream",
          "name": "stdout",
          "text": [
            "Количество столбцов для местоположений, которые встречаются более одного раза: 1301\n"
          ]
        },
        {
          "output_type": "stream",
          "name": "stderr",
          "text": [
            "/usr/local/lib/python3.10/dist-packages/sklearn/preprocessing/_encoders.py:868: FutureWarning: `sparse` was renamed to `sparse_output` in version 1.2 and will be removed in 1.4. `sparse_output` is ignored unless you leave `sparse` to its default value.\n",
            "  warnings.warn(\n"
          ]
        }
      ]
    },
    {
      "cell_type": "markdown",
      "source": [
        "Добавьте этот признак к матрице отскалированных текстовых признаков, обучите логистическую регрессию, замерьте качество. Как оно изменилось? Оказался ли признак полезным?\n",
        "\n",
        "Подсказка: используйте параметр categories в энкодере."
      ],
      "metadata": {
        "id": "6XLcfvNm2cle"
      }
    },
    {
      "cell_type": "code",
      "source": [
        "vectorizer = CountVectorizer(min_df=0.00039, max_df = 0.369)\n",
        "X_text = vectorizer.fit_transform(filtered_df['OriginalTweet'])\n",
        "\n",
        "scaler = MaxAbsScaler()\n",
        "X_text_scaled = scaler.fit_transform(X_text)\n",
        "\n",
        "categories = filtered_df['StandardizedLocation'].value_counts()[filtered_df['StandardizedLocation'].value_counts() > 1].index.tolist()\n",
        "\n",
        "encoder = OneHotEncoder(categories=[categories], sparse=False)\n",
        "encoded_locations = encoder.fit_transform(filtered_df[['StandardizedLocation']])\n",
        "\n",
        "X_combined = hstack([X_text_scaled, encoded_locations])\n",
        "\n",
        "y = filtered_df['Sentiment']\n",
        "X_train, X_test, y_train, y_test = train_test_split(X_combined, y, test_size=0.3, random_state=42)\n",
        "\n",
        "model = LogisticRegression(max_iter=500)\n",
        "model.fit(X_train, y_train)\n",
        "\n",
        "\n",
        "train_pred = model.predict(X_train)\n",
        "y_pred = model.predict(X_test)\n",
        "accuracy_test = accuracy_score(y_test, y_pred)\n",
        "accuracy_train = accuracy_score(y_train, train_pred)\n",
        "print(\"Точность модели:\", accuracy_train, accuracy_test)"
      ],
      "metadata": {
        "colab": {
          "base_uri": "https://localhost:8080/"
        },
        "id": "oS2vuzDu2cqC",
        "outputId": "9ff8df97-8a42-4f10-f2c0-b8749e9802ff"
      },
      "execution_count": 83,
      "outputs": [
        {
          "output_type": "stream",
          "name": "stderr",
          "text": [
            "/usr/local/lib/python3.10/dist-packages/sklearn/preprocessing/_encoders.py:868: FutureWarning: `sparse` was renamed to `sparse_output` in version 1.2 and will be removed in 1.4. `sparse_output` is ignored unless you leave `sparse` to its default value.\n",
            "  warnings.warn(\n"
          ]
        },
        {
          "output_type": "stream",
          "name": "stdout",
          "text": [
            "Точность модели: 0.9532005030780433 0.8514285714285714\n"
          ]
        }
      ]
    },
    {
      "cell_type": "markdown",
      "source": [
        "Все так же глобальных улучшении нет. Немного увеличилась точность на train, и снизилась на test."
      ],
      "metadata": {
        "id": "mbpqQRjc3cV0"
      }
    }
  ]
}